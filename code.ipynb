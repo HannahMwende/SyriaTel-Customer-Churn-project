{
 "cells": [
  {
   "cell_type": "markdown",
   "id": "b6dd0682",
   "metadata": {},
   "source": [
    "# SyriaTel Customer Churn project \n",
    "\n",
    "## Overview\n",
    "\n",
    "* In this project, we shall be modelling a classification problem.<br>\n",
    "* Classification algorithms try to find the decision boundary using the predictors, which divides the target into different  classes which we shall see very soon.\n",
    "\n",
    "\n",
    "## Business Problem\n",
    "**SyriaTel Telephone Company** has been having a high churn rate with their customers which has affected the profitability of their services and the growth rate of their customer base negatively so they want to understand why this is happening and what they could do about it.In addition, they are also interested in reducing how much money is lost because of customers who don't stick around very long.  \n",
    "\n",
    "\n",
    "## Data Understanding\n",
    "The dataset used in this analysis contains information of customers of SyriaTel Company and it is also found in Kaggle.Our dataset includes the following information:<br>\n",
    "* **state** - the state the user lives in\n",
    "* **account length** - the number of days the user has this account\n",
    "* **area code** - the code of the area the user lives in\n",
    "* **phone number** - the phone number of the user\n",
    "* **international plan** - whether the user has an international plan\n",
    "* **voice mail plan** - whether the user has an voice mail plan\n",
    "* **number vmail messages** - the number of voice mail messages the user has sent\n",
    "* **total day minutes** - total number of minutes the user has been in calls during the day\n",
    "* **total day calls** - total number of calls the user has done during the day\n",
    "* **total day charge** - total amount of money the user was charged by the Telecom company for calls during the day\n",
    "* **total eve minutes** - total number of minutes the user has been in calls during the evening\n",
    "* **total eve calls** - total number of calls the user has done during the evening\n",
    "* **total eve charge** - total amount of money the user was charged by the Telecom company for calls during the evening\n",
    "* **total night minutes** - total number of minutes the user has been in calls during the night\n",
    "* **total night calls** - total number of calls the user has done during the night\n",
    "* **total night charge** - total amount of money the user was charged by the Telecom company for calls during the night\n",
    "* **total intl minutes** - total number of minutes the user has been in international calls\n",
    "* **total intl calls** - total number of international calls the user has done\n",
    "* **total intl charge** - total amount of money the user was charged by the Telecom company for international calls\n",
    "* **customer service calls** - number of customer service calls the user has done\n",
    "* **churn** - true if the user terminated the contract, otherwise false"
   ]
  },
  {
   "cell_type": "markdown",
   "id": "fdd09faa",
   "metadata": {},
   "source": [
    "### Loading data"
   ]
  },
  {
   "cell_type": "code",
   "execution_count": 1,
   "id": "d3c09283",
   "metadata": {},
   "outputs": [],
   "source": [
    "#importing libraries\n",
    "import pandas as pd\n",
    "import seaborn as sns\n",
    "import numpy as np\n",
    "import matplotlib.pyplot as plt\n",
    "%matplotlib inline\n",
    "\n",
    "from sklearn.model_selection import train_test_split,cross_val_score,GridSearchCV\n",
    "from sklearn.preprocessing import StandardScaler \n",
    "from sklearn.linear_model import LogisticRegression\n",
    "import statsmodels.api as sm\n",
    "from sklearn.metrics import plot_confusion_matrix,accuracy_score, recall_score, precision_score, f1_score,roc_auc_score,roc_curve\n",
    "from sklearn.feature_selection import RFE, RFECV\n",
    "from imblearn.over_sampling import SMOTE\n",
    "from sklearn.base import clone\n",
    "from sklearn.neighbors import KNeighborsClassifier\n",
    "from sklearn.pipeline import Pipeline\n",
    "from sklearn.tree import DecisionTreeClassifier\n",
    "from sklearn.ensemble import RandomForestClassifier"
   ]
  },
  {
   "cell_type": "code",
   "execution_count": 2,
   "id": "ec160817",
   "metadata": {},
   "outputs": [
    {
     "data": {
      "text/html": [
       "<div>\n",
       "<style scoped>\n",
       "    .dataframe tbody tr th:only-of-type {\n",
       "        vertical-align: middle;\n",
       "    }\n",
       "\n",
       "    .dataframe tbody tr th {\n",
       "        vertical-align: top;\n",
       "    }\n",
       "\n",
       "    .dataframe thead th {\n",
       "        text-align: right;\n",
       "    }\n",
       "</style>\n",
       "<table border=\"1\" class=\"dataframe\">\n",
       "  <thead>\n",
       "    <tr style=\"text-align: right;\">\n",
       "      <th></th>\n",
       "      <th>state</th>\n",
       "      <th>account length</th>\n",
       "      <th>area code</th>\n",
       "      <th>phone number</th>\n",
       "      <th>international plan</th>\n",
       "      <th>voice mail plan</th>\n",
       "      <th>number vmail messages</th>\n",
       "      <th>total day minutes</th>\n",
       "      <th>total day calls</th>\n",
       "      <th>total day charge</th>\n",
       "      <th>...</th>\n",
       "      <th>total eve calls</th>\n",
       "      <th>total eve charge</th>\n",
       "      <th>total night minutes</th>\n",
       "      <th>total night calls</th>\n",
       "      <th>total night charge</th>\n",
       "      <th>total intl minutes</th>\n",
       "      <th>total intl calls</th>\n",
       "      <th>total intl charge</th>\n",
       "      <th>customer service calls</th>\n",
       "      <th>churn</th>\n",
       "    </tr>\n",
       "  </thead>\n",
       "  <tbody>\n",
       "    <tr>\n",
       "      <th>0</th>\n",
       "      <td>KS</td>\n",
       "      <td>128</td>\n",
       "      <td>415</td>\n",
       "      <td>382-4657</td>\n",
       "      <td>no</td>\n",
       "      <td>yes</td>\n",
       "      <td>25</td>\n",
       "      <td>265.1</td>\n",
       "      <td>110</td>\n",
       "      <td>45.07</td>\n",
       "      <td>...</td>\n",
       "      <td>99</td>\n",
       "      <td>16.78</td>\n",
       "      <td>244.7</td>\n",
       "      <td>91</td>\n",
       "      <td>11.01</td>\n",
       "      <td>10.0</td>\n",
       "      <td>3</td>\n",
       "      <td>2.70</td>\n",
       "      <td>1</td>\n",
       "      <td>False</td>\n",
       "    </tr>\n",
       "    <tr>\n",
       "      <th>1</th>\n",
       "      <td>OH</td>\n",
       "      <td>107</td>\n",
       "      <td>415</td>\n",
       "      <td>371-7191</td>\n",
       "      <td>no</td>\n",
       "      <td>yes</td>\n",
       "      <td>26</td>\n",
       "      <td>161.6</td>\n",
       "      <td>123</td>\n",
       "      <td>27.47</td>\n",
       "      <td>...</td>\n",
       "      <td>103</td>\n",
       "      <td>16.62</td>\n",
       "      <td>254.4</td>\n",
       "      <td>103</td>\n",
       "      <td>11.45</td>\n",
       "      <td>13.7</td>\n",
       "      <td>3</td>\n",
       "      <td>3.70</td>\n",
       "      <td>1</td>\n",
       "      <td>False</td>\n",
       "    </tr>\n",
       "    <tr>\n",
       "      <th>2</th>\n",
       "      <td>NJ</td>\n",
       "      <td>137</td>\n",
       "      <td>415</td>\n",
       "      <td>358-1921</td>\n",
       "      <td>no</td>\n",
       "      <td>no</td>\n",
       "      <td>0</td>\n",
       "      <td>243.4</td>\n",
       "      <td>114</td>\n",
       "      <td>41.38</td>\n",
       "      <td>...</td>\n",
       "      <td>110</td>\n",
       "      <td>10.30</td>\n",
       "      <td>162.6</td>\n",
       "      <td>104</td>\n",
       "      <td>7.32</td>\n",
       "      <td>12.2</td>\n",
       "      <td>5</td>\n",
       "      <td>3.29</td>\n",
       "      <td>0</td>\n",
       "      <td>False</td>\n",
       "    </tr>\n",
       "    <tr>\n",
       "      <th>3</th>\n",
       "      <td>OH</td>\n",
       "      <td>84</td>\n",
       "      <td>408</td>\n",
       "      <td>375-9999</td>\n",
       "      <td>yes</td>\n",
       "      <td>no</td>\n",
       "      <td>0</td>\n",
       "      <td>299.4</td>\n",
       "      <td>71</td>\n",
       "      <td>50.90</td>\n",
       "      <td>...</td>\n",
       "      <td>88</td>\n",
       "      <td>5.26</td>\n",
       "      <td>196.9</td>\n",
       "      <td>89</td>\n",
       "      <td>8.86</td>\n",
       "      <td>6.6</td>\n",
       "      <td>7</td>\n",
       "      <td>1.78</td>\n",
       "      <td>2</td>\n",
       "      <td>False</td>\n",
       "    </tr>\n",
       "    <tr>\n",
       "      <th>4</th>\n",
       "      <td>OK</td>\n",
       "      <td>75</td>\n",
       "      <td>415</td>\n",
       "      <td>330-6626</td>\n",
       "      <td>yes</td>\n",
       "      <td>no</td>\n",
       "      <td>0</td>\n",
       "      <td>166.7</td>\n",
       "      <td>113</td>\n",
       "      <td>28.34</td>\n",
       "      <td>...</td>\n",
       "      <td>122</td>\n",
       "      <td>12.61</td>\n",
       "      <td>186.9</td>\n",
       "      <td>121</td>\n",
       "      <td>8.41</td>\n",
       "      <td>10.1</td>\n",
       "      <td>3</td>\n",
       "      <td>2.73</td>\n",
       "      <td>3</td>\n",
       "      <td>False</td>\n",
       "    </tr>\n",
       "  </tbody>\n",
       "</table>\n",
       "<p>5 rows × 21 columns</p>\n",
       "</div>"
      ],
      "text/plain": [
       "  state  account length  area code phone number international plan  \\\n",
       "0    KS             128        415     382-4657                 no   \n",
       "1    OH             107        415     371-7191                 no   \n",
       "2    NJ             137        415     358-1921                 no   \n",
       "3    OH              84        408     375-9999                yes   \n",
       "4    OK              75        415     330-6626                yes   \n",
       "\n",
       "  voice mail plan  number vmail messages  total day minutes  total day calls  \\\n",
       "0             yes                     25              265.1              110   \n",
       "1             yes                     26              161.6              123   \n",
       "2              no                      0              243.4              114   \n",
       "3              no                      0              299.4               71   \n",
       "4              no                      0              166.7              113   \n",
       "\n",
       "   total day charge  ...  total eve calls  total eve charge  \\\n",
       "0             45.07  ...               99             16.78   \n",
       "1             27.47  ...              103             16.62   \n",
       "2             41.38  ...              110             10.30   \n",
       "3             50.90  ...               88              5.26   \n",
       "4             28.34  ...              122             12.61   \n",
       "\n",
       "   total night minutes  total night calls  total night charge  \\\n",
       "0                244.7                 91               11.01   \n",
       "1                254.4                103               11.45   \n",
       "2                162.6                104                7.32   \n",
       "3                196.9                 89                8.86   \n",
       "4                186.9                121                8.41   \n",
       "\n",
       "   total intl minutes  total intl calls  total intl charge  \\\n",
       "0                10.0                 3               2.70   \n",
       "1                13.7                 3               3.70   \n",
       "2                12.2                 5               3.29   \n",
       "3                 6.6                 7               1.78   \n",
       "4                10.1                 3               2.73   \n",
       "\n",
       "   customer service calls  churn  \n",
       "0                       1  False  \n",
       "1                       1  False  \n",
       "2                       0  False  \n",
       "3                       2  False  \n",
       "4                       3  False  \n",
       "\n",
       "[5 rows x 21 columns]"
      ]
     },
     "execution_count": 2,
     "metadata": {},
     "output_type": "execute_result"
    }
   ],
   "source": [
    "data=pd.read_csv(\"data/SyriaTel Customers.csv\")\n",
    "data.head()"
   ]
  },
  {
   "cell_type": "code",
   "execution_count": 3,
   "id": "eec2935e",
   "metadata": {},
   "outputs": [
    {
     "name": "stdout",
     "output_type": "stream",
     "text": [
      "<class 'pandas.core.frame.DataFrame'>\n",
      "RangeIndex: 3333 entries, 0 to 3332\n",
      "Data columns (total 21 columns):\n",
      " #   Column                  Non-Null Count  Dtype  \n",
      "---  ------                  --------------  -----  \n",
      " 0   state                   3333 non-null   object \n",
      " 1   account length          3333 non-null   int64  \n",
      " 2   area code               3333 non-null   int64  \n",
      " 3   phone number            3333 non-null   object \n",
      " 4   international plan      3333 non-null   object \n",
      " 5   voice mail plan         3333 non-null   object \n",
      " 6   number vmail messages   3333 non-null   int64  \n",
      " 7   total day minutes       3333 non-null   float64\n",
      " 8   total day calls         3333 non-null   int64  \n",
      " 9   total day charge        3333 non-null   float64\n",
      " 10  total eve minutes       3333 non-null   float64\n",
      " 11  total eve calls         3333 non-null   int64  \n",
      " 12  total eve charge        3333 non-null   float64\n",
      " 13  total night minutes     3333 non-null   float64\n",
      " 14  total night calls       3333 non-null   int64  \n",
      " 15  total night charge      3333 non-null   float64\n",
      " 16  total intl minutes      3333 non-null   float64\n",
      " 17  total intl calls        3333 non-null   int64  \n",
      " 18  total intl charge       3333 non-null   float64\n",
      " 19  customer service calls  3333 non-null   int64  \n",
      " 20  churn                   3333 non-null   bool   \n",
      "dtypes: bool(1), float64(8), int64(8), object(4)\n",
      "memory usage: 524.2+ KB\n"
     ]
    }
   ],
   "source": [
    "#getting familiar with our data\n",
    "data.info()"
   ]
  },
  {
   "cell_type": "code",
   "execution_count": 4,
   "id": "b9787464",
   "metadata": {},
   "outputs": [
    {
     "data": {
      "text/plain": [
       "Index(['state', 'account length', 'area code', 'phone number',\n",
       "       'international plan', 'voice mail plan', 'number vmail messages',\n",
       "       'total day minutes', 'total day calls', 'total day charge',\n",
       "       'total eve minutes', 'total eve calls', 'total eve charge',\n",
       "       'total night minutes', 'total night calls', 'total night charge',\n",
       "       'total intl minutes', 'total intl calls', 'total intl charge',\n",
       "       'customer service calls', 'churn'],\n",
       "      dtype='object')"
      ]
     },
     "execution_count": 4,
     "metadata": {},
     "output_type": "execute_result"
    }
   ],
   "source": [
    "data.columns"
   ]
  },
  {
   "cell_type": "markdown",
   "id": "1611e86d",
   "metadata": {},
   "source": [
    "There are 21 columns,none has of them has null values and there is a mix of all data types across the different columns.\n"
   ]
  },
  {
   "cell_type": "code",
   "execution_count": 5,
   "id": "1b74c613",
   "metadata": {},
   "outputs": [
    {
     "data": {
      "text/plain": [
       "no     3010\n",
       "yes     323\n",
       "Name: international plan, dtype: int64"
      ]
     },
     "execution_count": 5,
     "metadata": {},
     "output_type": "execute_result"
    }
   ],
   "source": [
    "data[\"international plan\"].value_counts()"
   ]
  },
  {
   "cell_type": "code",
   "execution_count": 6,
   "id": "c2f6d12a",
   "metadata": {},
   "outputs": [
    {
     "data": {
      "text/plain": [
       "no     2411\n",
       "yes     922\n",
       "Name: voice mail plan, dtype: int64"
      ]
     },
     "execution_count": 6,
     "metadata": {},
     "output_type": "execute_result"
    }
   ],
   "source": [
    "data[\"voice mail plan\"].value_counts()"
   ]
  },
  {
   "cell_type": "code",
   "execution_count": 7,
   "id": "36d6f51c",
   "metadata": {},
   "outputs": [
    {
     "data": {
      "text/plain": [
       "False    2850\n",
       "True      483\n",
       "Name: churn, dtype: int64"
      ]
     },
     "execution_count": 7,
     "metadata": {},
     "output_type": "execute_result"
    }
   ],
   "source": [
    "data[\"churn\"].value_counts()"
   ]
  },
  {
   "cell_type": "markdown",
   "id": "7c47a935",
   "metadata": {},
   "source": [
    "### Data wrangling"
   ]
  },
  {
   "cell_type": "markdown",
   "id": "a88ad313",
   "metadata": {},
   "source": [
    "***Dealing with duplicates***"
   ]
  },
  {
   "cell_type": "code",
   "execution_count": 8,
   "id": "772ec725",
   "metadata": {},
   "outputs": [
    {
     "data": {
      "text/plain": [
       "False    3333\n",
       "dtype: int64"
      ]
     },
     "execution_count": 8,
     "metadata": {},
     "output_type": "execute_result"
    }
   ],
   "source": [
    "#checking for duplicates\n",
    "data.duplicated().value_counts()"
   ]
  },
  {
   "cell_type": "markdown",
   "id": "7e44e3ea",
   "metadata": {},
   "source": [
    "Our data doesn't have duplicates."
   ]
  },
  {
   "cell_type": "markdown",
   "id": "245b0d51",
   "metadata": {},
   "source": [
    "***Handling missing values***"
   ]
  },
  {
   "cell_type": "code",
   "execution_count": 9,
   "id": "b314da9c",
   "metadata": {},
   "outputs": [
    {
     "data": {
      "text/plain": [
       "state                     0\n",
       "account length            0\n",
       "area code                 0\n",
       "phone number              0\n",
       "international plan        0\n",
       "voice mail plan           0\n",
       "number vmail messages     0\n",
       "total day minutes         0\n",
       "total day calls           0\n",
       "total day charge          0\n",
       "total eve minutes         0\n",
       "total eve calls           0\n",
       "total eve charge          0\n",
       "total night minutes       0\n",
       "total night calls         0\n",
       "total night charge        0\n",
       "total intl minutes        0\n",
       "total intl calls          0\n",
       "total intl charge         0\n",
       "customer service calls    0\n",
       "churn                     0\n",
       "dtype: int64"
      ]
     },
     "execution_count": 9,
     "metadata": {},
     "output_type": "execute_result"
    }
   ],
   "source": [
    "#checking for null values\n",
    "data.isnull().sum()"
   ]
  },
  {
   "cell_type": "markdown",
   "id": "0b41d0ef",
   "metadata": {},
   "source": [
    "As earlier noted,we have confirmed that the data has no missing values\n"
   ]
  },
  {
   "cell_type": "markdown",
   "id": "4d9ed93b",
   "metadata": {},
   "source": [
    "***Checking for outliers***"
   ]
  },
  {
   "cell_type": "code",
   "execution_count": 10,
   "id": "9f0e8cce",
   "metadata": {},
   "outputs": [
    {
     "data": {
      "text/plain": [
       "15"
      ]
     },
     "execution_count": 10,
     "metadata": {},
     "output_type": "execute_result"
    }
   ],
   "source": [
    "columns=['account length','number vmail messages','total day minutes', 'total day calls', 'total day charge',\n",
    "       'total eve minutes', 'total eve calls', 'total eve charge',\n",
    "       'total night minutes', 'total night calls', 'total night charge',\n",
    "       'total intl minutes', 'total intl calls', 'total intl charge', 'customer service calls']\n",
    "len(columns)"
   ]
  },
  {
   "cell_type": "code",
   "execution_count": 11,
   "id": "2d0d2d46",
   "metadata": {},
   "outputs": [
    {
     "data": {
      "image/png": "[encoded data removed]",
      "text/plain": [
       "<Figure size 1080x1440 with 15 Axes>"
      ]
     },
     "metadata": {
      "needs_background": "light"
     },
     "output_type": "display_data"
    }
   ],
   "source": [
    "fig,ax=plt.subplots(ncols=3,nrows=5,figsize=(15,20))\n",
    "index=0\n",
    "ax=ax.flatten()\n",
    "for col in data[columns]:\n",
    "    sns.boxplot(y=col,data=data,ax=ax[index])\n",
    "    index+=1"
   ]
  },
  {
   "cell_type": "code",
   "execution_count": 12,
   "id": "7bf1e7f8",
   "metadata": {},
   "outputs": [
    {
     "data": {
      "text/html": [
       "<div>\n",
       "<style scoped>\n",
       "    .dataframe tbody tr th:only-of-type {\n",
       "        vertical-align: middle;\n",
       "    }\n",
       "\n",
       "    .dataframe tbody tr th {\n",
       "        vertical-align: top;\n",
       "    }\n",
       "\n",
       "    .dataframe thead th {\n",
       "        text-align: right;\n",
       "    }\n",
       "</style>\n",
       "<table border=\"1\" class=\"dataframe\">\n",
       "  <thead>\n",
       "    <tr style=\"text-align: right;\">\n",
       "      <th></th>\n",
       "      <th>account length</th>\n",
       "      <th>area code</th>\n",
       "      <th>number vmail messages</th>\n",
       "      <th>total day minutes</th>\n",
       "      <th>total day calls</th>\n",
       "      <th>total day charge</th>\n",
       "      <th>total eve minutes</th>\n",
       "      <th>total eve calls</th>\n",
       "      <th>total eve charge</th>\n",
       "      <th>total night minutes</th>\n",
       "      <th>total night calls</th>\n",
       "      <th>total night charge</th>\n",
       "      <th>total intl minutes</th>\n",
       "      <th>total intl calls</th>\n",
       "      <th>total intl charge</th>\n",
       "      <th>customer service calls</th>\n",
       "    </tr>\n",
       "  </thead>\n",
       "  <tbody>\n",
       "    <tr>\n",
       "      <th>count</th>\n",
       "      <td>3333.000000</td>\n",
       "      <td>3333.000000</td>\n",
       "      <td>3333.000000</td>\n",
       "      <td>3333.000000</td>\n",
       "      <td>3333.000000</td>\n",
       "      <td>3333.000000</td>\n",
       "      <td>3333.000000</td>\n",
       "      <td>3333.000000</td>\n",
       "      <td>3333.000000</td>\n",
       "      <td>3333.000000</td>\n",
       "      <td>3333.000000</td>\n",
       "      <td>3333.000000</td>\n",
       "      <td>3333.000000</td>\n",
       "      <td>3333.000000</td>\n",
       "      <td>3333.000000</td>\n",
       "      <td>3333.000000</td>\n",
       "    </tr>\n",
       "    <tr>\n",
       "      <th>mean</th>\n",
       "      <td>101.064806</td>\n",
       "      <td>437.182418</td>\n",
       "      <td>8.099010</td>\n",
       "      <td>179.775098</td>\n",
       "      <td>100.435644</td>\n",
       "      <td>30.562307</td>\n",
       "      <td>200.980348</td>\n",
       "      <td>100.114311</td>\n",
       "      <td>17.083540</td>\n",
       "      <td>200.872037</td>\n",
       "      <td>100.107711</td>\n",
       "      <td>9.039325</td>\n",
       "      <td>10.237294</td>\n",
       "      <td>4.479448</td>\n",
       "      <td>2.764581</td>\n",
       "      <td>1.562856</td>\n",
       "    </tr>\n",
       "    <tr>\n",
       "      <th>std</th>\n",
       "      <td>39.822106</td>\n",
       "      <td>42.371290</td>\n",
       "      <td>13.688365</td>\n",
       "      <td>54.467389</td>\n",
       "      <td>20.069084</td>\n",
       "      <td>9.259435</td>\n",
       "      <td>50.713844</td>\n",
       "      <td>19.922625</td>\n",
       "      <td>4.310668</td>\n",
       "      <td>50.573847</td>\n",
       "      <td>19.568609</td>\n",
       "      <td>2.275873</td>\n",
       "      <td>2.791840</td>\n",
       "      <td>2.461214</td>\n",
       "      <td>0.753773</td>\n",
       "      <td>1.315491</td>\n",
       "    </tr>\n",
       "    <tr>\n",
       "      <th>min</th>\n",
       "      <td>1.000000</td>\n",
       "      <td>408.000000</td>\n",
       "      <td>0.000000</td>\n",
       "      <td>0.000000</td>\n",
       "      <td>0.000000</td>\n",
       "      <td>0.000000</td>\n",
       "      <td>0.000000</td>\n",
       "      <td>0.000000</td>\n",
       "      <td>0.000000</td>\n",
       "      <td>23.200000</td>\n",
       "      <td>33.000000</td>\n",
       "      <td>1.040000</td>\n",
       "      <td>0.000000</td>\n",
       "      <td>0.000000</td>\n",
       "      <td>0.000000</td>\n",
       "      <td>0.000000</td>\n",
       "    </tr>\n",
       "    <tr>\n",
       "      <th>25%</th>\n",
       "      <td>74.000000</td>\n",
       "      <td>408.000000</td>\n",
       "      <td>0.000000</td>\n",
       "      <td>143.700000</td>\n",
       "      <td>87.000000</td>\n",
       "      <td>24.430000</td>\n",
       "      <td>166.600000</td>\n",
       "      <td>87.000000</td>\n",
       "      <td>14.160000</td>\n",
       "      <td>167.000000</td>\n",
       "      <td>87.000000</td>\n",
       "      <td>7.520000</td>\n",
       "      <td>8.500000</td>\n",
       "      <td>3.000000</td>\n",
       "      <td>2.300000</td>\n",
       "      <td>1.000000</td>\n",
       "    </tr>\n",
       "    <tr>\n",
       "      <th>50%</th>\n",
       "      <td>101.000000</td>\n",
       "      <td>415.000000</td>\n",
       "      <td>0.000000</td>\n",
       "      <td>179.400000</td>\n",
       "      <td>101.000000</td>\n",
       "      <td>30.500000</td>\n",
       "      <td>201.400000</td>\n",
       "      <td>100.000000</td>\n",
       "      <td>17.120000</td>\n",
       "      <td>201.200000</td>\n",
       "      <td>100.000000</td>\n",
       "      <td>9.050000</td>\n",
       "      <td>10.300000</td>\n",
       "      <td>4.000000</td>\n",
       "      <td>2.780000</td>\n",
       "      <td>1.000000</td>\n",
       "    </tr>\n",
       "    <tr>\n",
       "      <th>75%</th>\n",
       "      <td>127.000000</td>\n",
       "      <td>510.000000</td>\n",
       "      <td>20.000000</td>\n",
       "      <td>216.400000</td>\n",
       "      <td>114.000000</td>\n",
       "      <td>36.790000</td>\n",
       "      <td>235.300000</td>\n",
       "      <td>114.000000</td>\n",
       "      <td>20.000000</td>\n",
       "      <td>235.300000</td>\n",
       "      <td>113.000000</td>\n",
       "      <td>10.590000</td>\n",
       "      <td>12.100000</td>\n",
       "      <td>6.000000</td>\n",
       "      <td>3.270000</td>\n",
       "      <td>2.000000</td>\n",
       "    </tr>\n",
       "    <tr>\n",
       "      <th>max</th>\n",
       "      <td>243.000000</td>\n",
       "      <td>510.000000</td>\n",
       "      <td>51.000000</td>\n",
       "      <td>350.800000</td>\n",
       "      <td>165.000000</td>\n",
       "      <td>59.640000</td>\n",
       "      <td>363.700000</td>\n",
       "      <td>170.000000</td>\n",
       "      <td>30.910000</td>\n",
       "      <td>395.000000</td>\n",
       "      <td>175.000000</td>\n",
       "      <td>17.770000</td>\n",
       "      <td>20.000000</td>\n",
       "      <td>20.000000</td>\n",
       "      <td>5.400000</td>\n",
       "      <td>9.000000</td>\n",
       "    </tr>\n",
       "  </tbody>\n",
       "</table>\n",
       "</div>"
      ],
      "text/plain": [
       "       account length    area code  number vmail messages  total day minutes  \\\n",
       "count     3333.000000  3333.000000            3333.000000        3333.000000   \n",
       "mean       101.064806   437.182418               8.099010         179.775098   \n",
       "std         39.822106    42.371290              13.688365          54.467389   \n",
       "min          1.000000   408.000000               0.000000           0.000000   \n",
       "25%         74.000000   408.000000               0.000000         143.700000   \n",
       "50%        101.000000   415.000000               0.000000         179.400000   \n",
       "75%        127.000000   510.000000              20.000000         216.400000   \n",
       "max        243.000000   510.000000              51.000000         350.800000   \n",
       "\n",
       "       total day calls  total day charge  total eve minutes  total eve calls  \\\n",
       "count      3333.000000       3333.000000        3333.000000      3333.000000   \n",
       "mean        100.435644         30.562307         200.980348       100.114311   \n",
       "std          20.069084          9.259435          50.713844        19.922625   \n",
       "min           0.000000          0.000000           0.000000         0.000000   \n",
       "25%          87.000000         24.430000         166.600000        87.000000   \n",
       "50%         101.000000         30.500000         201.400000       100.000000   \n",
       "75%         114.000000         36.790000         235.300000       114.000000   \n",
       "max         165.000000         59.640000         363.700000       170.000000   \n",
       "\n",
       "       total eve charge  total night minutes  total night calls  \\\n",
       "count       3333.000000          3333.000000        3333.000000   \n",
       "mean          17.083540           200.872037         100.107711   \n",
       "std            4.310668            50.573847          19.568609   \n",
       "min            0.000000            23.200000          33.000000   \n",
       "25%           14.160000           167.000000          87.000000   \n",
       "50%           17.120000           201.200000         100.000000   \n",
       "75%           20.000000           235.300000         113.000000   \n",
       "max           30.910000           395.000000         175.000000   \n",
       "\n",
       "       total night charge  total intl minutes  total intl calls  \\\n",
       "count         3333.000000         3333.000000       3333.000000   \n",
       "mean             9.039325           10.237294          4.479448   \n",
       "std              2.275873            2.791840          2.461214   \n",
       "min              1.040000            0.000000          0.000000   \n",
       "25%              7.520000            8.500000          3.000000   \n",
       "50%              9.050000           10.300000          4.000000   \n",
       "75%             10.590000           12.100000          6.000000   \n",
       "max             17.770000           20.000000         20.000000   \n",
       "\n",
       "       total intl charge  customer service calls  \n",
       "count        3333.000000             3333.000000  \n",
       "mean            2.764581                1.562856  \n",
       "std             0.753773                1.315491  \n",
       "min             0.000000                0.000000  \n",
       "25%             2.300000                1.000000  \n",
       "50%             2.780000                1.000000  \n",
       "75%             3.270000                2.000000  \n",
       "max             5.400000                9.000000  "
      ]
     },
     "execution_count": 12,
     "metadata": {},
     "output_type": "execute_result"
    }
   ],
   "source": [
    "data.describe()\n"
   ]
  },
  {
   "cell_type": "markdown",
   "id": "48803b57",
   "metadata": {},
   "source": [
    "Looks like there are columns with outliers and will have to remove them since machine learning models are sensitive to outliers"
   ]
  },
  {
   "cell_type": "code",
   "execution_count": 13,
   "id": "6745736e",
   "metadata": {},
   "outputs": [
    {
     "data": {
      "text/html": [
       "<div>\n",
       "<style scoped>\n",
       "    .dataframe tbody tr th:only-of-type {\n",
       "        vertical-align: middle;\n",
       "    }\n",
       "\n",
       "    .dataframe tbody tr th {\n",
       "        vertical-align: top;\n",
       "    }\n",
       "\n",
       "    .dataframe thead th {\n",
       "        text-align: right;\n",
       "    }\n",
       "</style>\n",
       "<table border=\"1\" class=\"dataframe\">\n",
       "  <thead>\n",
       "    <tr style=\"text-align: right;\">\n",
       "      <th></th>\n",
       "      <th>account length</th>\n",
       "      <th>area code</th>\n",
       "      <th>number vmail messages</th>\n",
       "      <th>total day minutes</th>\n",
       "      <th>total day calls</th>\n",
       "      <th>total day charge</th>\n",
       "      <th>total eve minutes</th>\n",
       "      <th>total eve calls</th>\n",
       "      <th>total eve charge</th>\n",
       "      <th>total night minutes</th>\n",
       "      <th>total night calls</th>\n",
       "      <th>total night charge</th>\n",
       "      <th>total intl minutes</th>\n",
       "      <th>total intl calls</th>\n",
       "      <th>total intl charge</th>\n",
       "      <th>customer service calls</th>\n",
       "    </tr>\n",
       "  </thead>\n",
       "  <tbody>\n",
       "    <tr>\n",
       "      <th>count</th>\n",
       "      <td>2804.000000</td>\n",
       "      <td>2804.000000</td>\n",
       "      <td>2804.000000</td>\n",
       "      <td>2804.000000</td>\n",
       "      <td>2804.000000</td>\n",
       "      <td>2804.000000</td>\n",
       "      <td>2804.000000</td>\n",
       "      <td>2804.000000</td>\n",
       "      <td>2804.000000</td>\n",
       "      <td>2804.000000</td>\n",
       "      <td>2804.000000</td>\n",
       "      <td>2804.000000</td>\n",
       "      <td>2804.000000</td>\n",
       "      <td>2804.000000</td>\n",
       "      <td>2804.000000</td>\n",
       "      <td>2804.000000</td>\n",
       "    </tr>\n",
       "    <tr>\n",
       "      <th>mean</th>\n",
       "      <td>100.416904</td>\n",
       "      <td>437.417974</td>\n",
       "      <td>8.124822</td>\n",
       "      <td>179.991583</td>\n",
       "      <td>100.534950</td>\n",
       "      <td>30.599112</td>\n",
       "      <td>201.214836</td>\n",
       "      <td>100.038516</td>\n",
       "      <td>17.103488</td>\n",
       "      <td>201.150678</td>\n",
       "      <td>100.036377</td>\n",
       "      <td>9.051830</td>\n",
       "      <td>10.308631</td>\n",
       "      <td>4.312411</td>\n",
       "      <td>2.783848</td>\n",
       "      <td>1.304565</td>\n",
       "    </tr>\n",
       "    <tr>\n",
       "      <th>std</th>\n",
       "      <td>39.296506</td>\n",
       "      <td>42.527388</td>\n",
       "      <td>13.707670</td>\n",
       "      <td>52.740915</td>\n",
       "      <td>19.310682</td>\n",
       "      <td>8.965888</td>\n",
       "      <td>49.205886</td>\n",
       "      <td>19.224863</td>\n",
       "      <td>4.182556</td>\n",
       "      <td>48.833880</td>\n",
       "      <td>19.059797</td>\n",
       "      <td>2.197581</td>\n",
       "      <td>2.598826</td>\n",
       "      <td>2.073939</td>\n",
       "      <td>0.701609</td>\n",
       "      <td>0.975238</td>\n",
       "    </tr>\n",
       "    <tr>\n",
       "      <th>min</th>\n",
       "      <td>1.000000</td>\n",
       "      <td>408.000000</td>\n",
       "      <td>0.000000</td>\n",
       "      <td>35.100000</td>\n",
       "      <td>47.000000</td>\n",
       "      <td>5.970000</td>\n",
       "      <td>64.300000</td>\n",
       "      <td>48.000000</td>\n",
       "      <td>5.470000</td>\n",
       "      <td>65.700000</td>\n",
       "      <td>48.000000</td>\n",
       "      <td>2.960000</td>\n",
       "      <td>3.300000</td>\n",
       "      <td>1.000000</td>\n",
       "      <td>0.890000</td>\n",
       "      <td>0.000000</td>\n",
       "    </tr>\n",
       "    <tr>\n",
       "      <th>25%</th>\n",
       "      <td>73.000000</td>\n",
       "      <td>408.000000</td>\n",
       "      <td>0.000000</td>\n",
       "      <td>144.000000</td>\n",
       "      <td>87.000000</td>\n",
       "      <td>24.480000</td>\n",
       "      <td>167.200000</td>\n",
       "      <td>87.000000</td>\n",
       "      <td>14.210000</td>\n",
       "      <td>167.575000</td>\n",
       "      <td>87.000000</td>\n",
       "      <td>7.540000</td>\n",
       "      <td>8.600000</td>\n",
       "      <td>3.000000</td>\n",
       "      <td>2.320000</td>\n",
       "      <td>1.000000</td>\n",
       "    </tr>\n",
       "    <tr>\n",
       "      <th>50%</th>\n",
       "      <td>100.000000</td>\n",
       "      <td>415.000000</td>\n",
       "      <td>0.000000</td>\n",
       "      <td>179.750000</td>\n",
       "      <td>101.000000</td>\n",
       "      <td>30.560000</td>\n",
       "      <td>201.350000</td>\n",
       "      <td>100.000000</td>\n",
       "      <td>17.115000</td>\n",
       "      <td>201.050000</td>\n",
       "      <td>101.000000</td>\n",
       "      <td>9.050000</td>\n",
       "      <td>10.300000</td>\n",
       "      <td>4.000000</td>\n",
       "      <td>2.780000</td>\n",
       "      <td>1.000000</td>\n",
       "    </tr>\n",
       "    <tr>\n",
       "      <th>75%</th>\n",
       "      <td>127.000000</td>\n",
       "      <td>510.000000</td>\n",
       "      <td>19.000000</td>\n",
       "      <td>216.125000</td>\n",
       "      <td>114.000000</td>\n",
       "      <td>36.742500</td>\n",
       "      <td>235.150000</td>\n",
       "      <td>113.000000</td>\n",
       "      <td>19.985000</td>\n",
       "      <td>235.850000</td>\n",
       "      <td>113.000000</td>\n",
       "      <td>10.612500</td>\n",
       "      <td>12.100000</td>\n",
       "      <td>6.000000</td>\n",
       "      <td>3.270000</td>\n",
       "      <td>2.000000</td>\n",
       "    </tr>\n",
       "    <tr>\n",
       "      <th>max</th>\n",
       "      <td>205.000000</td>\n",
       "      <td>510.000000</td>\n",
       "      <td>50.000000</td>\n",
       "      <td>324.700000</td>\n",
       "      <td>152.000000</td>\n",
       "      <td>55.200000</td>\n",
       "      <td>337.100000</td>\n",
       "      <td>154.000000</td>\n",
       "      <td>28.650000</td>\n",
       "      <td>334.700000</td>\n",
       "      <td>152.000000</td>\n",
       "      <td>15.060000</td>\n",
       "      <td>17.300000</td>\n",
       "      <td>10.000000</td>\n",
       "      <td>4.670000</td>\n",
       "      <td>3.000000</td>\n",
       "    </tr>\n",
       "  </tbody>\n",
       "</table>\n",
       "</div>"
      ],
      "text/plain": [
       "       account length    area code  number vmail messages  total day minutes  \\\n",
       "count     2804.000000  2804.000000            2804.000000        2804.000000   \n",
       "mean       100.416904   437.417974               8.124822         179.991583   \n",
       "std         39.296506    42.527388              13.707670          52.740915   \n",
       "min          1.000000   408.000000               0.000000          35.100000   \n",
       "25%         73.000000   408.000000               0.000000         144.000000   \n",
       "50%        100.000000   415.000000               0.000000         179.750000   \n",
       "75%        127.000000   510.000000              19.000000         216.125000   \n",
       "max        205.000000   510.000000              50.000000         324.700000   \n",
       "\n",
       "       total day calls  total day charge  total eve minutes  total eve calls  \\\n",
       "count      2804.000000       2804.000000        2804.000000      2804.000000   \n",
       "mean        100.534950         30.599112         201.214836       100.038516   \n",
       "std          19.310682          8.965888          49.205886        19.224863   \n",
       "min          47.000000          5.970000          64.300000        48.000000   \n",
       "25%          87.000000         24.480000         167.200000        87.000000   \n",
       "50%         101.000000         30.560000         201.350000       100.000000   \n",
       "75%         114.000000         36.742500         235.150000       113.000000   \n",
       "max         152.000000         55.200000         337.100000       154.000000   \n",
       "\n",
       "       total eve charge  total night minutes  total night calls  \\\n",
       "count       2804.000000          2804.000000        2804.000000   \n",
       "mean          17.103488           201.150678         100.036377   \n",
       "std            4.182556            48.833880          19.059797   \n",
       "min            5.470000            65.700000          48.000000   \n",
       "25%           14.210000           167.575000          87.000000   \n",
       "50%           17.115000           201.050000         101.000000   \n",
       "75%           19.985000           235.850000         113.000000   \n",
       "max           28.650000           334.700000         152.000000   \n",
       "\n",
       "       total night charge  total intl minutes  total intl calls  \\\n",
       "count         2804.000000         2804.000000       2804.000000   \n",
       "mean             9.051830           10.308631          4.312411   \n",
       "std              2.197581            2.598826          2.073939   \n",
       "min              2.960000            3.300000          1.000000   \n",
       "25%              7.540000            8.600000          3.000000   \n",
       "50%              9.050000           10.300000          4.000000   \n",
       "75%             10.612500           12.100000          6.000000   \n",
       "max             15.060000           17.300000         10.000000   \n",
       "\n",
       "       total intl charge  customer service calls  \n",
       "count        2804.000000             2804.000000  \n",
       "mean            2.783848                1.304565  \n",
       "std             0.701609                0.975238  \n",
       "min             0.890000                0.000000  \n",
       "25%             2.320000                1.000000  \n",
       "50%             2.780000                1.000000  \n",
       "75%             3.270000                2.000000  \n",
       "max             4.670000                3.000000  "
      ]
     },
     "execution_count": 13,
     "metadata": {},
     "output_type": "execute_result"
    }
   ],
   "source": [
    "#Removing outliers through IQR METHOD\n",
    "Q1 = data[columns].quantile(0.25)\n",
    "Q3 = data[columns].quantile(0.75)\n",
    "IQR = Q3 - Q1\n",
    "\n",
    "data = data[~((data[columns] < (Q1 - 1.5 * IQR)) |(data[columns] > (Q3 + 1.5 * IQR))).any(axis=1)]  \n",
    "data.describe()     \n",
    "\n",
    "    "
   ]
  },
  {
   "cell_type": "markdown",
   "id": "3ccdb5d6",
   "metadata": {},
   "source": [
    "***Data type conversion***"
   ]
  },
  {
   "cell_type": "code",
   "execution_count": 14,
   "id": "42cac459",
   "metadata": {},
   "outputs": [
    {
     "name": "stdout",
     "output_type": "stream",
     "text": [
      "<class 'pandas.core.frame.DataFrame'>\n",
      "Int64Index: 2804 entries, 0 to 3332\n",
      "Data columns (total 21 columns):\n",
      " #   Column                  Non-Null Count  Dtype  \n",
      "---  ------                  --------------  -----  \n",
      " 0   state                   2804 non-null   object \n",
      " 1   account length          2804 non-null   int64  \n",
      " 2   area code               2804 non-null   int64  \n",
      " 3   phone number            2804 non-null   object \n",
      " 4   international plan      2804 non-null   object \n",
      " 5   voice mail plan         2804 non-null   object \n",
      " 6   number vmail messages   2804 non-null   int64  \n",
      " 7   total day minutes       2804 non-null   float64\n",
      " 8   total day calls         2804 non-null   int64  \n",
      " 9   total day charge        2804 non-null   float64\n",
      " 10  total eve minutes       2804 non-null   float64\n",
      " 11  total eve calls         2804 non-null   int64  \n",
      " 12  total eve charge        2804 non-null   float64\n",
      " 13  total night minutes     2804 non-null   float64\n",
      " 14  total night calls       2804 non-null   int64  \n",
      " 15  total night charge      2804 non-null   float64\n",
      " 16  total intl minutes      2804 non-null   float64\n",
      " 17  total intl calls        2804 non-null   int64  \n",
      " 18  total intl charge       2804 non-null   float64\n",
      " 19  customer service calls  2804 non-null   int64  \n",
      " 20  churn                   2804 non-null   bool   \n",
      "dtypes: bool(1), float64(8), int64(8), object(4)\n",
      "memory usage: 462.8+ KB\n"
     ]
    }
   ],
   "source": [
    "data.info()"
   ]
  },
  {
   "cell_type": "code",
   "execution_count": 15,
   "id": "d7dc67bf",
   "metadata": {},
   "outputs": [
    {
     "data": {
      "text/plain": [
       "0       382-4657\n",
       "1       371-7191\n",
       "2       358-1921\n",
       "4       330-6626\n",
       "5       391-8027\n",
       "          ...   \n",
       "3328    414-4276\n",
       "3329    370-3271\n",
       "3330    328-8230\n",
       "3331    364-6381\n",
       "3332    400-4344\n",
       "Name: phone number, Length: 2804, dtype: object"
      ]
     },
     "execution_count": 15,
     "metadata": {},
     "output_type": "execute_result"
    }
   ],
   "source": [
    "data[\"phone number\"]"
   ]
  },
  {
   "cell_type": "code",
   "execution_count": 16,
   "id": "6118dffb",
   "metadata": {},
   "outputs": [
    {
     "data": {
      "text/plain": [
       "0       3824657\n",
       "1       3717191\n",
       "2       3581921\n",
       "4       3306626\n",
       "5       3918027\n",
       "         ...   \n",
       "3328    4144276\n",
       "3329    3703271\n",
       "3330    3288230\n",
       "3331    3646381\n",
       "3332    4004344\n",
       "Name: phone number, Length: 2804, dtype: object"
      ]
     },
     "execution_count": 16,
     "metadata": {},
     "output_type": "execute_result"
    }
   ],
   "source": [
    "#Removing the'-' from the phone number column\n",
    "data[\"phone number\"]=data[\"phone number\"].replace('-','', regex=True)\n",
    "data[\"phone number\"]"
   ]
  },
  {
   "cell_type": "code",
   "execution_count": 17,
   "id": "61cbed37",
   "metadata": {},
   "outputs": [
    {
     "data": {
      "text/plain": [
       "0       3824657\n",
       "1       3717191\n",
       "2       3581921\n",
       "4       3306626\n",
       "5       3918027\n",
       "         ...   \n",
       "3328    4144276\n",
       "3329    3703271\n",
       "3330    3288230\n",
       "3331    3646381\n",
       "3332    4004344\n",
       "Name: phone number, Length: 2804, dtype: int64"
      ]
     },
     "execution_count": 17,
     "metadata": {},
     "output_type": "execute_result"
    }
   ],
   "source": [
    "#Changing the data type to interger\n",
    "data[\"phone number\"]=data[\"phone number\"].astype(\"int64\")\n",
    "data[\"phone number\"]"
   ]
  },
  {
   "cell_type": "markdown",
   "id": "8aa54c2e",
   "metadata": {},
   "source": [
    "### Data exploration\n",
    "For better understanding of our data will explore patterns and trends.<br>\n",
    "**_1.Customer Churn rate_**"
   ]
  },
  {
   "cell_type": "code",
   "execution_count": 18,
   "id": "01ab3fbc",
   "metadata": {},
   "outputs": [
    {
     "data": {
      "image/png": "[encoded data removed]",
      "text/plain": [
       "<Figure size 1080x576 with 1 Axes>"
      ]
     },
     "metadata": {
      "needs_background": "light"
     },
     "output_type": "display_data"
    }
   ],
   "source": [
    "churn_dict = {0: \"no churn\", 1: \"churn\"}\n",
    "y=data[\"churn\"].value_counts()\n",
    "fig,ax=plt.subplots(figsize=(15,8))\n",
    "ax.bar([churn_dict[x] for x in y.index], height=y.values,color=\"cyan\",alpha=0.5)\n",
    "ax.set_title(\"Customer churn rate\")\n",
    "ax.set_ylabel(\"Number of customers\")\n",
    "plt.savefig(\"Customer churn rate1.png\")\n"
   ]
  },
  {
   "cell_type": "code",
   "execution_count": 19,
   "id": "19be09b9",
   "metadata": {},
   "outputs": [
    {
     "data": {
      "text/plain": [
       "False    0.891227\n",
       "True     0.108773\n",
       "Name: churn, dtype: float64"
      ]
     },
     "execution_count": 19,
     "metadata": {},
     "output_type": "execute_result"
    }
   ],
   "source": [
    "data[\"churn\"].value_counts(normalize=True)"
   ]
  },
  {
   "cell_type": "markdown",
   "id": "f7783b06",
   "metadata": {},
   "source": [
    "Only around 10% churn out of the telecommunication company.So next will check where these people who churn where they are from<br>\n",
    "\n",
    "**2._States with their churn rate_**"
   ]
  },
  {
   "cell_type": "code",
   "execution_count": 20,
   "id": "07b3f4e4",
   "metadata": {},
   "outputs": [
    {
     "data": {
      "image/png": "[encoded data removed]",
      "text/plain": [
       "<Figure size 1296x720 with 1 Axes>"
      ]
     },
     "metadata": {
      "needs_background": "light"
     },
     "output_type": "display_data"
    }
   ],
   "source": [
    "state_df=data.groupby([\"state\", \"churn\"]).size().unstack()\n",
    "ax = state_df.plot(kind = 'bar', stacked = False, figsize=(18, 10))\n",
    "\n",
    "#ax.bar(x=state_df.index,height=state_df[0],label=\"no churn\")\n",
    "#ax.bar(x=state_df.index,height=state_df[1],label=\"churn\")\n",
    "ax.set_title(\"State churn rate\",fontsize=15)\n",
    "ax.set_ylabel(\"Number of customers\",fontsize=15)\n",
    "ax.set_xlabel(\"states\",fontsize=15)\n",
    "plt.xticks(fontsize=12)\n",
    "ax.legend()\n",
    "plt.savefig(\"State churn rate2.png\")   "
   ]
  },
  {
   "cell_type": "markdown",
   "id": "38669f35",
   "metadata": {},
   "source": [
    "From the above barplot,states ```New Jersey```,```Texas```,```Maryland```,```Kansas```,```Minnesota```,```Washtington```,```Michigan```,```Connecticut```,```Massachusets``` have the highest churn rates while customers in ```West Virginia``` and ```Alabama``` had the highest customer retention rates."
   ]
  },
  {
   "cell_type": "markdown",
   "id": "049f1373",
   "metadata": {},
   "source": [
    "**_3. Does calls to customer service affect churning?_** "
   ]
  },
  {
   "cell_type": "code",
   "execution_count": 21,
   "id": "ee518951",
   "metadata": {},
   "outputs": [
    {
     "data": {
      "image/png": "[encoded data removed]",
      "text/plain": [
       "<Figure size 720x576 with 1 Axes>"
      ]
     },
     "metadata": {
      "needs_background": "light"
     },
     "output_type": "display_data"
    }
   ],
   "source": [
    "care_df=data.groupby([\"customer service calls\", \"churn\"]).size().unstack()\n",
    "ax = care_df.plot(kind = 'bar', stacked = False, color = ['green','red'], figsize=(10, 8))\n",
    "\n",
    "ax.set_title(\"churn rate by number of customer services calls\",fontsize=15)\n",
    "ax.set_ylabel(\"Number of customers\",fontsize=15)\n",
    "ax.set_xlabel(\"number of customer service calls\",fontsize=15)\n",
    "plt.xticks(rotation=360)\n",
    "ax.legend()\n",
    "plt.savefig(\"churn rate by number of customer services calls3.png\")"
   ]
  },
  {
   "cell_type": "markdown",
   "id": "4b137363",
   "metadata": {},
   "source": [
    "Generally, customers with most calls to customer care are less likely to churn but there is quite an interesting trend as customers with 1 call to customer service are more likely to churn and also most customers who don't churn have one call also."
   ]
  },
  {
   "cell_type": "markdown",
   "id": "c870d458",
   "metadata": {},
   "source": [
    "**_4.Does having a international plan affect churn rate?_**"
   ]
  },
  {
   "cell_type": "code",
   "execution_count": 22,
   "id": "a1362961",
   "metadata": {},
   "outputs": [
    {
     "data": {
      "image/png": "[encoded data removed]",
      "text/plain": [
       "<Figure size 864x576 with 1 Axes>"
      ]
     },
     "metadata": {
      "needs_background": "light"
     },
     "output_type": "display_data"
    }
   ],
   "source": [
    "plan_df=data.groupby([\"international plan\", \"churn\"]).size().unstack()\n",
    "ax = plan_df.plot(kind = 'bar', stacked = False, figsize=(12, 8),color=[\"purple\",\"yellow\"],alpha=0.6)\n",
    "ax.set_title(\"churn rate by having an international plan\",fontsize=15)\n",
    "ax.set_ylabel(\"Number of customers\",fontsize=15)\n",
    "ax.set_xlabel(\"international plan\",fontsize=15)\n",
    "plt.xticks(rotation=360,fontsize=12)\n",
    "ax.legend()\n",
    "plt.savefig(\"churn rate by having an international plan4.png\")"
   ]
  },
  {
   "cell_type": "markdown",
   "id": "d9982900",
   "metadata": {},
   "source": [
    "Customers who don't have an international plan are the ones who are more likely to churn.<br>\n",
    "\n",
    "**_5.Does having a voice mail plan affect churn rate?_**"
   ]
  },
  {
   "cell_type": "code",
   "execution_count": 23,
   "id": "eabc84cd",
   "metadata": {},
   "outputs": [
    {
     "data": {
      "image/png": "[encoded data removed]",
      "text/plain": [
       "<Figure size 864x576 with 1 Axes>"
      ]
     },
     "metadata": {
      "needs_background": "light"
     },
     "output_type": "display_data"
    }
   ],
   "source": [
    "voice_df=data.groupby([\"voice mail plan\", \"churn\"]).size().unstack()\n",
    "ax = voice_df.plot(kind = 'bar', stacked = False, figsize=(12, 8))\n",
    "ax.set_title(\"churn rate by having an voice mail plan\",fontsize=15)\n",
    "ax.set_ylabel(\"Number of customers\",fontsize=15)\n",
    "ax.set_xlabel(\"Voice mail plan\",fontsize=15)\n",
    "plt.xticks(rotation=360,fontsize=12)\n",
    "ax.legend()\n",
    "plt.savefig(\"churn rate by having an voice mail plan5.png\")"
   ]
  },
  {
   "cell_type": "markdown",
   "id": "a7d9c751",
   "metadata": {},
   "source": [
    "Customers who don't have a voice mail plan are the ones who are more likely to churn.<br>\n",
    "\n",
    "**So from what we are seeing customers who don't have any plan for whatsoever are more likely to churn.**"
   ]
  },
  {
   "cell_type": "markdown",
   "id": "2d1f06b2",
   "metadata": {},
   "source": [
    "### Preprocessing data"
   ]
  },
  {
   "cell_type": "markdown",
   "id": "9964be38",
   "metadata": {},
   "source": [
    "We are going to eliminate some columns since they are not really quite needed:<br>\n",
    "1.*```phone number```* because its the unique identifier in our case therefore we really don't need it<br>\n",
    "2.*```area code```* because its has the same information as state"
   ]
  },
  {
   "cell_type": "code",
   "execution_count": 24,
   "id": "bf190d8a",
   "metadata": {},
   "outputs": [
    {
     "data": {
      "text/html": [
       "<div>\n",
       "<style scoped>\n",
       "    .dataframe tbody tr th:only-of-type {\n",
       "        vertical-align: middle;\n",
       "    }\n",
       "\n",
       "    .dataframe tbody tr th {\n",
       "        vertical-align: top;\n",
       "    }\n",
       "\n",
       "    .dataframe thead th {\n",
       "        text-align: right;\n",
       "    }\n",
       "</style>\n",
       "<table border=\"1\" class=\"dataframe\">\n",
       "  <thead>\n",
       "    <tr style=\"text-align: right;\">\n",
       "      <th></th>\n",
       "      <th>state</th>\n",
       "      <th>account length</th>\n",
       "      <th>international plan</th>\n",
       "      <th>voice mail plan</th>\n",
       "      <th>number vmail messages</th>\n",
       "      <th>total day minutes</th>\n",
       "      <th>total day calls</th>\n",
       "      <th>total day charge</th>\n",
       "      <th>total eve minutes</th>\n",
       "      <th>total eve calls</th>\n",
       "      <th>total eve charge</th>\n",
       "      <th>total night minutes</th>\n",
       "      <th>total night calls</th>\n",
       "      <th>total night charge</th>\n",
       "      <th>total intl minutes</th>\n",
       "      <th>total intl calls</th>\n",
       "      <th>total intl charge</th>\n",
       "      <th>customer service calls</th>\n",
       "      <th>churn</th>\n",
       "    </tr>\n",
       "  </thead>\n",
       "  <tbody>\n",
       "    <tr>\n",
       "      <th>0</th>\n",
       "      <td>KS</td>\n",
       "      <td>128</td>\n",
       "      <td>no</td>\n",
       "      <td>yes</td>\n",
       "      <td>25</td>\n",
       "      <td>265.1</td>\n",
       "      <td>110</td>\n",
       "      <td>45.07</td>\n",
       "      <td>197.4</td>\n",
       "      <td>99</td>\n",
       "      <td>16.78</td>\n",
       "      <td>244.7</td>\n",
       "      <td>91</td>\n",
       "      <td>11.01</td>\n",
       "      <td>10.0</td>\n",
       "      <td>3</td>\n",
       "      <td>2.70</td>\n",
       "      <td>1</td>\n",
       "      <td>False</td>\n",
       "    </tr>\n",
       "    <tr>\n",
       "      <th>1</th>\n",
       "      <td>OH</td>\n",
       "      <td>107</td>\n",
       "      <td>no</td>\n",
       "      <td>yes</td>\n",
       "      <td>26</td>\n",
       "      <td>161.6</td>\n",
       "      <td>123</td>\n",
       "      <td>27.47</td>\n",
       "      <td>195.5</td>\n",
       "      <td>103</td>\n",
       "      <td>16.62</td>\n",
       "      <td>254.4</td>\n",
       "      <td>103</td>\n",
       "      <td>11.45</td>\n",
       "      <td>13.7</td>\n",
       "      <td>3</td>\n",
       "      <td>3.70</td>\n",
       "      <td>1</td>\n",
       "      <td>False</td>\n",
       "    </tr>\n",
       "    <tr>\n",
       "      <th>2</th>\n",
       "      <td>NJ</td>\n",
       "      <td>137</td>\n",
       "      <td>no</td>\n",
       "      <td>no</td>\n",
       "      <td>0</td>\n",
       "      <td>243.4</td>\n",
       "      <td>114</td>\n",
       "      <td>41.38</td>\n",
       "      <td>121.2</td>\n",
       "      <td>110</td>\n",
       "      <td>10.30</td>\n",
       "      <td>162.6</td>\n",
       "      <td>104</td>\n",
       "      <td>7.32</td>\n",
       "      <td>12.2</td>\n",
       "      <td>5</td>\n",
       "      <td>3.29</td>\n",
       "      <td>0</td>\n",
       "      <td>False</td>\n",
       "    </tr>\n",
       "    <tr>\n",
       "      <th>4</th>\n",
       "      <td>OK</td>\n",
       "      <td>75</td>\n",
       "      <td>yes</td>\n",
       "      <td>no</td>\n",
       "      <td>0</td>\n",
       "      <td>166.7</td>\n",
       "      <td>113</td>\n",
       "      <td>28.34</td>\n",
       "      <td>148.3</td>\n",
       "      <td>122</td>\n",
       "      <td>12.61</td>\n",
       "      <td>186.9</td>\n",
       "      <td>121</td>\n",
       "      <td>8.41</td>\n",
       "      <td>10.1</td>\n",
       "      <td>3</td>\n",
       "      <td>2.73</td>\n",
       "      <td>3</td>\n",
       "      <td>False</td>\n",
       "    </tr>\n",
       "    <tr>\n",
       "      <th>5</th>\n",
       "      <td>AL</td>\n",
       "      <td>118</td>\n",
       "      <td>yes</td>\n",
       "      <td>no</td>\n",
       "      <td>0</td>\n",
       "      <td>223.4</td>\n",
       "      <td>98</td>\n",
       "      <td>37.98</td>\n",
       "      <td>220.6</td>\n",
       "      <td>101</td>\n",
       "      <td>18.75</td>\n",
       "      <td>203.9</td>\n",
       "      <td>118</td>\n",
       "      <td>9.18</td>\n",
       "      <td>6.3</td>\n",
       "      <td>6</td>\n",
       "      <td>1.70</td>\n",
       "      <td>0</td>\n",
       "      <td>False</td>\n",
       "    </tr>\n",
       "  </tbody>\n",
       "</table>\n",
       "</div>"
      ],
      "text/plain": [
       "  state  account length international plan voice mail plan  \\\n",
       "0    KS             128                 no             yes   \n",
       "1    OH             107                 no             yes   \n",
       "2    NJ             137                 no              no   \n",
       "4    OK              75                yes              no   \n",
       "5    AL             118                yes              no   \n",
       "\n",
       "   number vmail messages  total day minutes  total day calls  \\\n",
       "0                     25              265.1              110   \n",
       "1                     26              161.6              123   \n",
       "2                      0              243.4              114   \n",
       "4                      0              166.7              113   \n",
       "5                      0              223.4               98   \n",
       "\n",
       "   total day charge  total eve minutes  total eve calls  total eve charge  \\\n",
       "0             45.07              197.4               99             16.78   \n",
       "1             27.47              195.5              103             16.62   \n",
       "2             41.38              121.2              110             10.30   \n",
       "4             28.34              148.3              122             12.61   \n",
       "5             37.98              220.6              101             18.75   \n",
       "\n",
       "   total night minutes  total night calls  total night charge  \\\n",
       "0                244.7                 91               11.01   \n",
       "1                254.4                103               11.45   \n",
       "2                162.6                104                7.32   \n",
       "4                186.9                121                8.41   \n",
       "5                203.9                118                9.18   \n",
       "\n",
       "   total intl minutes  total intl calls  total intl charge  \\\n",
       "0                10.0                 3               2.70   \n",
       "1                13.7                 3               3.70   \n",
       "2                12.2                 5               3.29   \n",
       "4                10.1                 3               2.73   \n",
       "5                 6.3                 6               1.70   \n",
       "\n",
       "   customer service calls  churn  \n",
       "0                       1  False  \n",
       "1                       1  False  \n",
       "2                       0  False  \n",
       "4                       3  False  \n",
       "5                       0  False  "
      ]
     },
     "execution_count": 24,
     "metadata": {},
     "output_type": "execute_result"
    }
   ],
   "source": [
    "data=data.drop(columns=[\"phone number\",\"area code\"])\n",
    "data.head()"
   ]
  },
  {
   "cell_type": "code",
   "execution_count": 25,
   "id": "c41b3659",
   "metadata": {},
   "outputs": [
    {
     "data": {
      "text/plain": [
       "(2804, 19)"
      ]
     },
     "execution_count": 25,
     "metadata": {},
     "output_type": "execute_result"
    }
   ],
   "source": [
    "data.shape"
   ]
  },
  {
   "cell_type": "markdown",
   "id": "53a47dd4",
   "metadata": {},
   "source": [
    "***One hot encoding***"
   ]
  },
  {
   "cell_type": "code",
   "execution_count": 26,
   "id": "e404585b",
   "metadata": {},
   "outputs": [
    {
     "data": {
      "text/plain": [
       "51"
      ]
     },
     "execution_count": 26,
     "metadata": {},
     "output_type": "execute_result"
    }
   ],
   "source": [
    "data[\"state\"].nunique()"
   ]
  },
  {
   "cell_type": "markdown",
   "id": "5dedfbb9",
   "metadata": {},
   "source": [
    "There are 51 states to be one-hot encoded,if we just one hot encode all of them without a proper plan ,we might end up with a curse of dimensionality problem.Therefore the states will be grouped according to their region:<br>\n",
    "* NorthCentral\n",
    "* NorthEast\n",
    "* West\n",
    "* South"
   ]
  },
  {
   "cell_type": "code",
   "execution_count": 27,
   "id": "01d4d30e",
   "metadata": {},
   "outputs": [
    {
     "data": {
      "text/plain": [
       "array(['KS', 'OH', 'NJ', 'OK', 'AL', 'MO', 'WV', 'RI', 'IA', 'MT', 'ID',\n",
       "       'VT', 'VA', 'TX', 'FL', 'SC', 'NE', 'WY', 'HI', 'IL', 'NH', 'AZ',\n",
       "       'GA', 'AK', 'MA', 'AR', 'WI', 'OR', 'MI', 'DE', 'IN', 'UT', 'CO',\n",
       "       'CA', 'MN', 'SD', 'NC', 'WA', 'NM', 'NV', 'DC', 'MD', 'KY', 'LA',\n",
       "       'ME', 'MS', 'NY', 'TN', 'PA', 'CT', 'ND'], dtype=object)"
      ]
     },
     "execution_count": 27,
     "metadata": {},
     "output_type": "execute_result"
    }
   ],
   "source": [
    "data[\"state\"].unique()"
   ]
  },
  {
   "cell_type": "code",
   "execution_count": 28,
   "id": "c85e41d6",
   "metadata": {},
   "outputs": [
    {
     "name": "stderr",
     "output_type": "stream",
     "text": [
      "C:\\Users\\user\\AppData\\Local\\Temp/ipykernel_13824/1644560026.py:6: FutureWarning: The default value of regex will change from True to False in a future version.\n",
      "  data[\"state\"]=data[\"state\"].str.replace(northc,\"northCentral\")\n",
      "C:\\Users\\user\\AppData\\Local\\Temp/ipykernel_13824/1644560026.py:7: FutureWarning: The default value of regex will change from True to False in a future version.\n",
      "  data[\"state\"]=data[\"state\"].str.replace(northe,\"northEast\")\n",
      "C:\\Users\\user\\AppData\\Local\\Temp/ipykernel_13824/1644560026.py:8: FutureWarning: The default value of regex will change from True to False in a future version.\n",
      "  data[\"state\"]=data[\"state\"].str.replace(west,\"west\")\n",
      "C:\\Users\\user\\AppData\\Local\\Temp/ipykernel_13824/1644560026.py:9: FutureWarning: The default value of regex will change from True to False in a future version.\n",
      "  data[\"state\"]=data[\"state\"].str.replace(south,\"south\")\n"
     ]
    }
   ],
   "source": [
    "\n",
    "northc = '|'.join(['KS','OH','MN','SD','WI', 'MO','NE','MI','ND','IA', 'IL','IN'])\n",
    "northe = '|'.join(['VT','ME', 'NJ','MA','NY','PA','CT','RI','NH'])\n",
    "west = '|'.join(['CA', 'AK','WA','OR','NM','WY','NV','HI','MT','UT','ID','AZ','CO'])\n",
    "south = '|'.join(['GA','VA','MS','TX','OK','FL','AR','TN','AL','SC','WV','DE','DC','MD','KY','LA','NC'])\n",
    "\n",
    "data[\"state\"]=data[\"state\"].str.replace(northc,\"northCentral\")\n",
    "data[\"state\"]=data[\"state\"].str.replace(northe,\"northEast\")\n",
    "data[\"state\"]=data[\"state\"].str.replace(west,\"west\")\n",
    "data[\"state\"]=data[\"state\"].str.replace(south,\"south\")"
   ]
  },
  {
   "cell_type": "code",
   "execution_count": 29,
   "id": "0ff1db4c",
   "metadata": {},
   "outputs": [
    {
     "data": {
      "text/plain": [
       "array(['northCentral', 'northEast', 'south', 'west'], dtype=object)"
      ]
     },
     "execution_count": 29,
     "metadata": {},
     "output_type": "execute_result"
    }
   ],
   "source": [
    "data[\"state\"].unique()"
   ]
  },
  {
   "cell_type": "code",
   "execution_count": 30,
   "id": "80262e84",
   "metadata": {},
   "outputs": [
    {
     "data": {
      "text/html": [
       "<div>\n",
       "<style scoped>\n",
       "    .dataframe tbody tr th:only-of-type {\n",
       "        vertical-align: middle;\n",
       "    }\n",
       "\n",
       "    .dataframe tbody tr th {\n",
       "        vertical-align: top;\n",
       "    }\n",
       "\n",
       "    .dataframe thead th {\n",
       "        text-align: right;\n",
       "    }\n",
       "</style>\n",
       "<table border=\"1\" class=\"dataframe\">\n",
       "  <thead>\n",
       "    <tr style=\"text-align: right;\">\n",
       "      <th></th>\n",
       "      <th>account length</th>\n",
       "      <th>international plan</th>\n",
       "      <th>voice mail plan</th>\n",
       "      <th>number vmail messages</th>\n",
       "      <th>total day minutes</th>\n",
       "      <th>total day calls</th>\n",
       "      <th>total day charge</th>\n",
       "      <th>total eve minutes</th>\n",
       "      <th>total eve calls</th>\n",
       "      <th>total eve charge</th>\n",
       "      <th>...</th>\n",
       "      <th>total night calls</th>\n",
       "      <th>total night charge</th>\n",
       "      <th>total intl minutes</th>\n",
       "      <th>total intl calls</th>\n",
       "      <th>total intl charge</th>\n",
       "      <th>customer service calls</th>\n",
       "      <th>churn</th>\n",
       "      <th>state_northEast</th>\n",
       "      <th>state_south</th>\n",
       "      <th>state_west</th>\n",
       "    </tr>\n",
       "  </thead>\n",
       "  <tbody>\n",
       "    <tr>\n",
       "      <th>0</th>\n",
       "      <td>128</td>\n",
       "      <td>0</td>\n",
       "      <td>1</td>\n",
       "      <td>25</td>\n",
       "      <td>265.1</td>\n",
       "      <td>110</td>\n",
       "      <td>45.07</td>\n",
       "      <td>197.4</td>\n",
       "      <td>99</td>\n",
       "      <td>16.78</td>\n",
       "      <td>...</td>\n",
       "      <td>91</td>\n",
       "      <td>11.01</td>\n",
       "      <td>10.0</td>\n",
       "      <td>3</td>\n",
       "      <td>2.70</td>\n",
       "      <td>1</td>\n",
       "      <td>False</td>\n",
       "      <td>0</td>\n",
       "      <td>0</td>\n",
       "      <td>0</td>\n",
       "    </tr>\n",
       "    <tr>\n",
       "      <th>1</th>\n",
       "      <td>107</td>\n",
       "      <td>0</td>\n",
       "      <td>1</td>\n",
       "      <td>26</td>\n",
       "      <td>161.6</td>\n",
       "      <td>123</td>\n",
       "      <td>27.47</td>\n",
       "      <td>195.5</td>\n",
       "      <td>103</td>\n",
       "      <td>16.62</td>\n",
       "      <td>...</td>\n",
       "      <td>103</td>\n",
       "      <td>11.45</td>\n",
       "      <td>13.7</td>\n",
       "      <td>3</td>\n",
       "      <td>3.70</td>\n",
       "      <td>1</td>\n",
       "      <td>False</td>\n",
       "      <td>0</td>\n",
       "      <td>0</td>\n",
       "      <td>0</td>\n",
       "    </tr>\n",
       "    <tr>\n",
       "      <th>2</th>\n",
       "      <td>137</td>\n",
       "      <td>0</td>\n",
       "      <td>0</td>\n",
       "      <td>0</td>\n",
       "      <td>243.4</td>\n",
       "      <td>114</td>\n",
       "      <td>41.38</td>\n",
       "      <td>121.2</td>\n",
       "      <td>110</td>\n",
       "      <td>10.30</td>\n",
       "      <td>...</td>\n",
       "      <td>104</td>\n",
       "      <td>7.32</td>\n",
       "      <td>12.2</td>\n",
       "      <td>5</td>\n",
       "      <td>3.29</td>\n",
       "      <td>0</td>\n",
       "      <td>False</td>\n",
       "      <td>1</td>\n",
       "      <td>0</td>\n",
       "      <td>0</td>\n",
       "    </tr>\n",
       "    <tr>\n",
       "      <th>4</th>\n",
       "      <td>75</td>\n",
       "      <td>1</td>\n",
       "      <td>0</td>\n",
       "      <td>0</td>\n",
       "      <td>166.7</td>\n",
       "      <td>113</td>\n",
       "      <td>28.34</td>\n",
       "      <td>148.3</td>\n",
       "      <td>122</td>\n",
       "      <td>12.61</td>\n",
       "      <td>...</td>\n",
       "      <td>121</td>\n",
       "      <td>8.41</td>\n",
       "      <td>10.1</td>\n",
       "      <td>3</td>\n",
       "      <td>2.73</td>\n",
       "      <td>3</td>\n",
       "      <td>False</td>\n",
       "      <td>0</td>\n",
       "      <td>1</td>\n",
       "      <td>0</td>\n",
       "    </tr>\n",
       "    <tr>\n",
       "      <th>5</th>\n",
       "      <td>118</td>\n",
       "      <td>1</td>\n",
       "      <td>0</td>\n",
       "      <td>0</td>\n",
       "      <td>223.4</td>\n",
       "      <td>98</td>\n",
       "      <td>37.98</td>\n",
       "      <td>220.6</td>\n",
       "      <td>101</td>\n",
       "      <td>18.75</td>\n",
       "      <td>...</td>\n",
       "      <td>118</td>\n",
       "      <td>9.18</td>\n",
       "      <td>6.3</td>\n",
       "      <td>6</td>\n",
       "      <td>1.70</td>\n",
       "      <td>0</td>\n",
       "      <td>False</td>\n",
       "      <td>0</td>\n",
       "      <td>1</td>\n",
       "      <td>0</td>\n",
       "    </tr>\n",
       "  </tbody>\n",
       "</table>\n",
       "<p>5 rows × 21 columns</p>\n",
       "</div>"
      ],
      "text/plain": [
       "   account length  international plan  voice mail plan  number vmail messages  \\\n",
       "0             128                   0                1                     25   \n",
       "1             107                   0                1                     26   \n",
       "2             137                   0                0                      0   \n",
       "4              75                   1                0                      0   \n",
       "5             118                   1                0                      0   \n",
       "\n",
       "   total day minutes  total day calls  total day charge  total eve minutes  \\\n",
       "0              265.1              110             45.07              197.4   \n",
       "1              161.6              123             27.47              195.5   \n",
       "2              243.4              114             41.38              121.2   \n",
       "4              166.7              113             28.34              148.3   \n",
       "5              223.4               98             37.98              220.6   \n",
       "\n",
       "   total eve calls  total eve charge  ...  total night calls  \\\n",
       "0               99             16.78  ...                 91   \n",
       "1              103             16.62  ...                103   \n",
       "2              110             10.30  ...                104   \n",
       "4              122             12.61  ...                121   \n",
       "5              101             18.75  ...                118   \n",
       "\n",
       "   total night charge  total intl minutes  total intl calls  \\\n",
       "0               11.01                10.0                 3   \n",
       "1               11.45                13.7                 3   \n",
       "2                7.32                12.2                 5   \n",
       "4                8.41                10.1                 3   \n",
       "5                9.18                 6.3                 6   \n",
       "\n",
       "   total intl charge  customer service calls  churn  state_northEast  \\\n",
       "0               2.70                       1  False                0   \n",
       "1               3.70                       1  False                0   \n",
       "2               3.29                       0  False                1   \n",
       "4               2.73                       3  False                0   \n",
       "5               1.70                       0  False                0   \n",
       "\n",
       "   state_south  state_west  \n",
       "0            0           0  \n",
       "1            0           0  \n",
       "2            0           0  \n",
       "4            1           0  \n",
       "5            1           0  \n",
       "\n",
       "[5 rows x 21 columns]"
      ]
     },
     "execution_count": 30,
     "metadata": {},
     "output_type": "execute_result"
    }
   ],
   "source": [
    "#Binary encoding\n",
    "def binary(data,column):\n",
    "    data[column]=data[column].map({\"no\" :0,\"yes\":1})\n",
    "    return data[column]\n",
    "binary(data,\"international plan\")\n",
    "binary(data,\"voice mail plan\")\n",
    "\n",
    "#One hot encode categorical data\n",
    "dummies=pd.get_dummies(data[\"state\"],prefix=\"state\",drop_first=True)\n",
    "data=data.drop(\"state\",axis=1)\n",
    "data=pd.concat([data,dummies],axis=1)\n",
    "data.head()"
   ]
  },
  {
   "cell_type": "code",
   "execution_count": 31,
   "id": "a5b3ff98",
   "metadata": {},
   "outputs": [
    {
     "data": {
      "text/plain": [
       "Index(['account length', 'international plan', 'voice mail plan',\n",
       "       'number vmail messages', 'total day minutes', 'total day calls',\n",
       "       'total day charge', 'total eve minutes', 'total eve calls',\n",
       "       'total eve charge', 'total night minutes', 'total night calls',\n",
       "       'total night charge', 'total intl minutes', 'total intl calls',\n",
       "       'total intl charge', 'customer service calls', 'churn',\n",
       "       'state_northEast', 'state_south', 'state_west'],\n",
       "      dtype='object')"
      ]
     },
     "execution_count": 31,
     "metadata": {},
     "output_type": "execute_result"
    }
   ],
   "source": [
    "data.columns"
   ]
  },
  {
   "cell_type": "code",
   "execution_count": 32,
   "id": "f2e1aba0",
   "metadata": {},
   "outputs": [
    {
     "name": "stdout",
     "output_type": "stream",
     "text": [
      "<class 'pandas.core.frame.DataFrame'>\n",
      "Int64Index: 2804 entries, 0 to 3332\n",
      "Data columns (total 21 columns):\n",
      " #   Column                  Non-Null Count  Dtype  \n",
      "---  ------                  --------------  -----  \n",
      " 0   account length          2804 non-null   int64  \n",
      " 1   international plan      2804 non-null   int64  \n",
      " 2   voice mail plan         2804 non-null   int64  \n",
      " 3   number vmail messages   2804 non-null   int64  \n",
      " 4   total day minutes       2804 non-null   float64\n",
      " 5   total day calls         2804 non-null   int64  \n",
      " 6   total day charge        2804 non-null   float64\n",
      " 7   total eve minutes       2804 non-null   float64\n",
      " 8   total eve calls         2804 non-null   int64  \n",
      " 9   total eve charge        2804 non-null   float64\n",
      " 10  total night minutes     2804 non-null   float64\n",
      " 11  total night calls       2804 non-null   int64  \n",
      " 12  total night charge      2804 non-null   float64\n",
      " 13  total intl minutes      2804 non-null   float64\n",
      " 14  total intl calls        2804 non-null   int64  \n",
      " 15  total intl charge       2804 non-null   float64\n",
      " 16  customer service calls  2804 non-null   int64  \n",
      " 17  churn                   2804 non-null   bool   \n",
      " 18  state_northEast         2804 non-null   uint8  \n",
      " 19  state_south             2804 non-null   uint8  \n",
      " 20  state_west              2804 non-null   uint8  \n",
      "dtypes: bool(1), float64(8), int64(9), uint8(3)\n",
      "memory usage: 405.3 KB\n"
     ]
    }
   ],
   "source": [
    "data.info()"
   ]
  },
  {
   "cell_type": "markdown",
   "id": "c919f496",
   "metadata": {},
   "source": [
    "***Scaling the data***"
   ]
  },
  {
   "cell_type": "markdown",
   "id": "37698f8d",
   "metadata": {},
   "source": [
    "Let us have a look at the distribution of our data."
   ]
  },
  {
   "cell_type": "code",
   "execution_count": 33,
   "id": "4ff6f8f2",
   "metadata": {},
   "outputs": [
    {
     "name": "stderr",
     "output_type": "stream",
     "text": [
      "C:\\Users\\user\\AppData\\Local\\Temp/ipykernel_13824/3815047817.py:3: UserWarning: To output multiple subplots, the figure containing the passed axes is being cleared\n",
      "  data[columns].hist(ax = ax)\n"
     ]
    },
    {
     "data": {
      "text/plain": [
       "array([[<AxesSubplot:title={'center':'account length'}>,\n",
       "        <AxesSubplot:title={'center':'number vmail messages'}>,\n",
       "        <AxesSubplot:title={'center':'total day minutes'}>,\n",
       "        <AxesSubplot:title={'center':'total day calls'}>],\n",
       "       [<AxesSubplot:title={'center':'total day charge'}>,\n",
       "        <AxesSubplot:title={'center':'total eve minutes'}>,\n",
       "        <AxesSubplot:title={'center':'total eve calls'}>,\n",
       "        <AxesSubplot:title={'center':'total eve charge'}>],\n",
       "       [<AxesSubplot:title={'center':'total night minutes'}>,\n",
       "        <AxesSubplot:title={'center':'total night calls'}>,\n",
       "        <AxesSubplot:title={'center':'total night charge'}>,\n",
       "        <AxesSubplot:title={'center':'total intl minutes'}>],\n",
       "       [<AxesSubplot:title={'center':'total intl calls'}>,\n",
       "        <AxesSubplot:title={'center':'total intl charge'}>,\n",
       "        <AxesSubplot:title={'center':'customer service calls'}>,\n",
       "        <AxesSubplot:>]], dtype=object)"
      ]
     },
     "execution_count": 33,
     "metadata": {},
     "output_type": "execute_result"
    },
    {
     "data": {
      "image/png": "[encoded data removed]",
      "text/plain": [
       "<Figure size 864x864 with 16 Axes>"
      ]
     },
     "metadata": {
      "needs_background": "light"
     },
     "output_type": "display_data"
    }
   ],
   "source": [
    "fig = plt.figure(figsize = (12,12))\n",
    "ax = fig.gca()\n",
    "data[columns].hist(ax = ax)"
   ]
  },
  {
   "cell_type": "markdown",
   "id": "d1d22698",
   "metadata": {},
   "source": [
    "Most of the columns have a normal distibution except for a few like ```international calls``` which is skewed to the left"
   ]
  },
  {
   "cell_type": "code",
   "execution_count": 34,
   "id": "fb8984c9",
   "metadata": {},
   "outputs": [],
   "source": [
    "# partion features and target \n",
    "X = data.drop('churn', axis=1)\n",
    "y = data['churn']\n",
    "\n",
    "\n",
    "# train test split\n",
    "X_train, X_test, y_train, y_test = train_test_split(X, y, random_state=42)\n",
    "\n",
    "\n",
    "# scale continuous features\n",
    "scale = StandardScaler()\n",
    "scale.fit(X_train[columns])\n",
    "X_train_scaled = scale.transform(X_train[columns])\n",
    "X_test_scaled = scale.transform(X_test[columns])\n",
    "\n"
   ]
  },
  {
   "cell_type": "markdown",
   "id": "844545b3",
   "metadata": {},
   "source": [
    "***Understanding the correlation***<br>\n",
    "\n",
    "Its important to understand how each feature is correlated to the target."
   ]
  },
  {
   "cell_type": "code",
   "execution_count": 35,
   "id": "158575cf",
   "metadata": {},
   "outputs": [
    {
     "data": {
      "text/plain": [
       "voice mail plan          -0.098812\n",
       "number vmail messages    -0.086590\n",
       "total intl calls         -0.058159\n",
       "customer service calls   -0.017494\n",
       "state_south              -0.009258\n",
       "total eve calls          -0.005169\n",
       "state_west               -0.004600\n",
       "account length            0.012123\n",
       "total night calls         0.017546\n",
       "total day calls           0.020873\n",
       "state_northEast           0.035813\n",
       "total night charge        0.057309\n",
       "total night minutes       0.057325\n",
       "total intl minutes        0.077483\n",
       "total intl charge         0.077522\n",
       "total eve charge          0.139626\n",
       "total eve minutes         0.139640\n",
       "international plan        0.291600\n",
       "total day charge          0.298124\n",
       "total day minutes         0.298129\n",
       "churn                     1.000000\n",
       "Name: churn, dtype: float64"
      ]
     },
     "execution_count": 35,
     "metadata": {},
     "output_type": "execute_result"
    }
   ],
   "source": [
    "correlation = data.corr()['churn'].sort_values()\n",
    "correlation \n"
   ]
  },
  {
   "cell_type": "markdown",
   "id": "207ea35b",
   "metadata": {},
   "source": [
    "The ```voice mail plan``` is the most negatively correlated with  churning,meaning that if one doesn't have a voice mail plan they are more likely to churn as we saw earlier.<br>\n",
    "As for ```total day minutes``` its the most positive correlated to churning, meaning that increase in minutes during the day the customer is likely to churn."
   ]
  },
  {
   "cell_type": "markdown",
   "id": "4a3af427",
   "metadata": {},
   "source": [
    "### Modelling\n",
    "\n",
    "Will start to build our initial model which will set up the pace for all other models until the best model is achieved.<br>\n",
    "\n",
    "***Logistic regression***"
   ]
  },
  {
   "cell_type": "code",
   "execution_count": 36,
   "id": "c77bb864",
   "metadata": {},
   "outputs": [
    {
     "name": "stderr",
     "output_type": "stream",
     "text": [
      "C:\\Users\\user\\anaconda3\\lib\\site-packages\\sklearn\\utils\\deprecation.py:87: FutureWarning: Function plot_confusion_matrix is deprecated; Function `plot_confusion_matrix` is deprecated in 1.0 and will be removed in 1.2. Use one of the class methods: ConfusionMatrixDisplay.from_predictions or ConfusionMatrixDisplay.from_estimator.\n",
      "  warnings.warn(msg, category=FutureWarning)\n"
     ]
    },
    {
     "data": {
      "image/png": "[encoded data removed]",
      "text/plain": [
       "<Figure size 432x288 with 2 Axes>"
      ]
     },
     "metadata": {
      "needs_background": "light"
     },
     "output_type": "display_data"
    }
   ],
   "source": [
    "# Instantiate the model\n",
    "logistic =LogisticRegression(random_state=42)\n",
    "\n",
    "# Fit the model on the scaled data\n",
    "logistic.fit(X_train_scaled, y_train)\n",
    "\n",
    "plot_confusion_matrix(logistic, X_train_scaled, y_train);"
   ]
  },
  {
   "cell_type": "markdown",
   "id": "49d2a13b",
   "metadata": {},
   "source": [
    "Here we have the numbers of the :<br> * True negative - 1874<br>\n",
    "                                  * True positive - 38<br>\n",
    "                                  * False negative - 185<br>\n",
    "                                  * False positive - 6"
   ]
  },
  {
   "cell_type": "code",
   "execution_count": 37,
   "id": "8e2fe45e",
   "metadata": {},
   "outputs": [
    {
     "name": "stdout",
     "output_type": "stream",
     "text": [
      "Log loss for the classifier: 0.2804542069328191\n"
     ]
    }
   ],
   "source": [
    "#Defining a function that calculates the log loss of our classifier\n",
    "def evaluate(model,x_train,y_train):\n",
    "    cv = cross_val_score(model, x_train, y_train,scoring=\"neg_log_loss\")\n",
    "\n",
    "    log_loss = -(cv.mean())\n",
    "    print(f\"Log loss for the classifier: {log_loss}\")\n",
    "evaluate(logistic, X_train_scaled, y_train)"
   ]
  },
  {
   "cell_type": "markdown",
   "id": "fb1140d8",
   "metadata": {},
   "source": [
    "Our loss metric is not doing bad but this is our initial model so its difficult to interpret this as per now but as we continue to improve our models the aim is to lower the loss metric."
   ]
  },
  {
   "cell_type": "code",
   "execution_count": 38,
   "id": "504761c3",
   "metadata": {},
   "outputs": [
    {
     "name": "stdout",
     "output_type": "stream",
     "text": [
      "Train score: 0.9091773656680932 \n",
      " Test score :0.9087018544935807\n"
     ]
    }
   ],
   "source": [
    "#Defining a model that scores the model.\n",
    "def score(model,x_train,y_train,x_test,y_test):\n",
    "    train=model.score(x_train,y_train)\n",
    "    test=model.score(x_test,y_test)\n",
    "    \n",
    "    print(f\"Train score: {train} \\n Test score :{test}\")\n",
    "    \n",
    "score(logistic,X_train_scaled,y_train,X_test_scaled,y_test)\n",
    "\n"
   ]
  },
  {
   "cell_type": "markdown",
   "id": "668b8cd4",
   "metadata": {},
   "source": [
    "From the look of things,the model is doing good as both the traing and test score are good.Inasmuch as the train score is better than test score this is not a sign of overfitting since the difference is not so much.\n",
    "\n",
    "\n",
    "We can tune this model by solving the class imbalance problem  using the SMOTE method  which creates synthetic examples of the \n",
    "minority class therefore bringing a sense of balance.Then evaluate the metrics to see whether it is doing better than our initial model.\n"
   ]
  },
  {
   "cell_type": "code",
   "execution_count": 39,
   "id": "8865d96b",
   "metadata": {},
   "outputs": [
    {
     "data": {
      "text/html": [
       "<style>#sk-container-id-1 {color: black;background-color: white;}#sk-container-id-1 pre{padding: 0;}#sk-container-id-1 div.sk-toggleable {background-color: white;}#sk-container-id-1 label.sk-toggleable__label {cursor: pointer;display: block;width: 100%;margin-bottom: 0;padding: 0.3em;box-sizing: border-box;text-align: center;}#sk-container-id-1 label.sk-toggleable__label-arrow:before {content: \"▸\";float: left;margin-right: 0.25em;color: #696969;}#sk-container-id-1 label.sk-toggleable__label-arrow:hover:before {color: black;}#sk-container-id-1 div.sk-estimator:hover label.sk-toggleable__label-arrow:before {color: black;}#sk-container-id-1 div.sk-toggleable__content {max-height: 0;max-width: 0;overflow: hidden;text-align: left;background-color: #f0f8ff;}#sk-container-id-1 div.sk-toggleable__content pre {margin: 0.2em;color: black;border-radius: 0.25em;background-color: #f0f8ff;}#sk-container-id-1 input.sk-toggleable__control:checked~div.sk-toggleable__content {max-height: 200px;max-width: 100%;overflow: auto;}#sk-container-id-1 input.sk-toggleable__control:checked~label.sk-toggleable__label-arrow:before {content: \"▾\";}#sk-container-id-1 div.sk-estimator input.sk-toggleable__control:checked~label.sk-toggleable__label {background-color: #d4ebff;}#sk-container-id-1 div.sk-label input.sk-toggleable__control:checked~label.sk-toggleable__label {background-color: #d4ebff;}#sk-container-id-1 input.sk-hidden--visually {border: 0;clip: rect(1px 1px 1px 1px);clip: rect(1px, 1px, 1px, 1px);height: 1px;margin: -1px;overflow: hidden;padding: 0;position: absolute;width: 1px;}#sk-container-id-1 div.sk-estimator {font-family: monospace;background-color: #f0f8ff;border: 1px dotted black;border-radius: 0.25em;box-sizing: border-box;margin-bottom: 0.5em;}#sk-container-id-1 div.sk-estimator:hover {background-color: #d4ebff;}#sk-container-id-1 div.sk-parallel-item::after {content: \"\";width: 100%;border-bottom: 1px solid gray;flex-grow: 1;}#sk-container-id-1 div.sk-label:hover label.sk-toggleable__label {background-color: #d4ebff;}#sk-container-id-1 div.sk-serial::before {content: \"\";position: absolute;border-left: 1px solid gray;box-sizing: border-box;top: 0;bottom: 0;left: 50%;z-index: 0;}#sk-container-id-1 div.sk-serial {display: flex;flex-direction: column;align-items: center;background-color: white;padding-right: 0.2em;padding-left: 0.2em;position: relative;}#sk-container-id-1 div.sk-item {position: relative;z-index: 1;}#sk-container-id-1 div.sk-parallel {display: flex;align-items: stretch;justify-content: center;background-color: white;position: relative;}#sk-container-id-1 div.sk-item::before, #sk-container-id-1 div.sk-parallel-item::before {content: \"\";position: absolute;border-left: 1px solid gray;box-sizing: border-box;top: 0;bottom: 0;left: 50%;z-index: -1;}#sk-container-id-1 div.sk-parallel-item {display: flex;flex-direction: column;z-index: 1;position: relative;background-color: white;}#sk-container-id-1 div.sk-parallel-item:first-child::after {align-self: flex-end;width: 50%;}#sk-container-id-1 div.sk-parallel-item:last-child::after {align-self: flex-start;width: 50%;}#sk-container-id-1 div.sk-parallel-item:only-child::after {width: 0;}#sk-container-id-1 div.sk-dashed-wrapped {border: 1px dashed gray;margin: 0 0.4em 0.5em 0.4em;box-sizing: border-box;padding-bottom: 0.4em;background-color: white;}#sk-container-id-1 div.sk-label label {font-family: monospace;font-weight: bold;display: inline-block;line-height: 1.2em;}#sk-container-id-1 div.sk-label-container {text-align: center;}#sk-container-id-1 div.sk-container {/* jupyter's `normalize.less` sets `[hidden] { display: none; }` but bootstrap.min.css set `[hidden] { display: none !important; }` so we also need the `!important` here to be able to override the default hidden behavior on the sphinx rendered scikit-learn.org. See: https://github.com/scikit-learn/scikit-learn/issues/21755 */display: inline-block !important;position: relative;}#sk-container-id-1 div.sk-text-repr-fallback {display: none;}</style><div id=\"sk-container-id-1\" class=\"sk-top-container\"><div class=\"sk-text-repr-fallback\"><pre>LogisticRegression(random_state=42)</pre><b>In a Jupyter environment, please rerun this cell to show the HTML representation or trust the notebook. <br />On GitHub, the HTML representation is unable to render, please try loading this page with nbviewer.org.</b></div><div class=\"sk-container\" hidden><div class=\"sk-item\"><div class=\"sk-estimator sk-toggleable\"><input class=\"sk-toggleable__control sk-hidden--visually\" id=\"sk-estimator-id-1\" type=\"checkbox\" checked><label for=\"sk-estimator-id-1\" class=\"sk-toggleable__label sk-toggleable__label-arrow\">LogisticRegression</label><div class=\"sk-toggleable__content\"><pre>LogisticRegression(random_state=42)</pre></div></div></div></div></div>"
      ],
      "text/plain": [
       "LogisticRegression(random_state=42)"
      ]
     },
     "execution_count": 39,
     "metadata": {},
     "output_type": "execute_result"
    }
   ],
   "source": [
    "# Instantiate SMOTE with random_state=42 and sampling_strategy=0.28\n",
    "sm = SMOTE(random_state=42, sampling_strategy=0.28)\n",
    "# Fit and transform X_t_scaled and y_t using sm\n",
    "X_t_oversampled, y_t_oversampled = sm.fit_resample(X_train_scaled, y_train)\n",
    "        \n",
    "# Clone the provided model and fit it on the train subset\n",
    "temp_model = clone(logistic)\n",
    "temp_model.fit(X_t_oversampled, y_t_oversampled)"
   ]
  },
  {
   "cell_type": "code",
   "execution_count": 40,
   "id": "74996bbc",
   "metadata": {},
   "outputs": [
    {
     "name": "stdout",
     "output_type": "stream",
     "text": [
      "Log loss for the classifier: 0.4359195200837281\n",
      "Train score: 0.8416458852867831 \n",
      " Test score :0.9258202567760342\n"
     ]
    }
   ],
   "source": [
    "#checking our metrics\n",
    "evaluate(temp_model, X_t_oversampled, y_t_oversampled)\n",
    "score(temp_model,X_t_oversampled, y_t_oversampled,X_test_scaled,y_test)"
   ]
  },
  {
   "cell_type": "markdown",
   "id": "5fc80e1a",
   "metadata": {},
   "source": [
    "The log loss is doing worse than the previous model but the test score is impressive no over fitting at all.\n",
    "\n",
    "\n",
    "\n",
    "***KNN Model***\n",
    "\n",
    "For this next classifier,I use a *pipeline* to make the workflow organised and clean also the *GridSearchCV()* to look for the best combination of parameters.<br>\n",
    "\n",
    "GridSearchCV is a great tool for finding the best combination of parameters. However, it is only as good as the parameters we put in our parameter grid  so we will need to be thoughful of what  values of k we put in our GridSearchCV as k can range as low as 1 and as high as whatever number."
   ]
  },
  {
   "cell_type": "code",
   "execution_count": 41,
   "id": "956d2e8a",
   "metadata": {},
   "outputs": [
    {
     "name": "stdout",
     "output_type": "stream",
     "text": [
      "Best Value for k: 75\n"
     ]
    }
   ],
   "source": [
    "#FINDING K WITH A LOSS OF LESS THAN 0.5\n",
    "def find_best_k(X_train, y_train, X_test, y_test, min_k=1, max_k=75):\n",
    "    best_k = 0\n",
    "    for k in range(min_k, max_k+1,2):\n",
    "        knn1 = KNeighborsClassifier(n_neighbors=k)\n",
    "        knn_log_loss1=-cross_val_score(knn1, X_train, y_train, scoring=\"neg_log_loss\").mean()\n",
    "        if  knn_log_loss1 < 0.5:\n",
    "            best_k = k\n",
    "             \n",
    "    print(\"Best Value for k: {}\".format(best_k))\n",
    "    \n",
    "    \n",
    "find_best_k(X_train_scaled, y_train, X_test_scaled, y_test)  "
   ]
  },
  {
   "cell_type": "code",
   "execution_count": 42,
   "id": "a6abdd86",
   "metadata": {},
   "outputs": [
    {
     "name": "stdout",
     "output_type": "stream",
     "text": [
      "Best Value for k: 5\n",
      "Test Score: 0.9144079885877318\n"
     ]
    }
   ],
   "source": [
    "#finding k with the best test score\n",
    "def find_k(X_train, y_train, X_test, y_test, min_k=1, max_k=50):\n",
    "    best_k = 0\n",
    "    best_score = 0.0\n",
    "    for k in range(min_k, max_k+1):\n",
    "        knn = KNeighborsClassifier(n_neighbors=k)\n",
    "        knn.fit(X_train, y_train)\n",
    "        test = knn.score(X_test,y_test)\n",
    "        if test >best_score:\n",
    "            best_k = k\n",
    "            best_score = test\n",
    "    \n",
    "    print(\"Best Value for k: {}\".format(best_k))\n",
    "    print(\"Test Score: {}\".format(best_score))\n",
    "    \n",
    "find_k(X_train_scaled, y_train, X_test_scaled, y_test)"
   ]
  },
  {
   "cell_type": "code",
   "execution_count": 43,
   "id": "aed66127",
   "metadata": {},
   "outputs": [
    {
     "name": "stdout",
     "output_type": "stream",
     "text": [
      "Train score: 0.9243937232524965 \n",
      " Test score :0.9144079885877318\n",
      "Log loss for the classifier: 1.4122818377604436\n"
     ]
    }
   ],
   "source": [
    "#Building a pipeline\n",
    "pipeline1=Pipeline([('KNN',  KNeighborsClassifier())])\n",
    "\n",
    "grid = [{'KNN__n_neighbors': [5,50,75], \n",
    "         'KNN__metric': [\"manhattan\",\"euclidean\",\"minkowski\"]}]\n",
    "                             \n",
    "# Instantiate GridSearchCV    \n",
    "gridsearch1 = GridSearchCV(estimator=pipeline1, \n",
    "                          param_grid=grid, \n",
    "                          scoring='accuracy', \n",
    "                          cv=5)\n",
    "\n",
    "# Fit the training data\n",
    "gridsearch1.fit(X_train_scaled, y_train)\n",
    "\n",
    "# Print the test and train score\n",
    "score(gridsearch1,X_train_scaled, y_train,X_test_scaled,y_test)\n",
    "\n",
    "#print the log loss of the model\n",
    "evaluate(gridsearch1, X_train_scaled, y_train)"
   ]
  },
  {
   "cell_type": "markdown",
   "id": "f318226d",
   "metadata": {},
   "source": [
    "Our KNN model has so far the worst log loss but its a good fitting as the test and train scores are good.Probably ,for tuning this model we shall apply the SMOTE method as we did earlier to eliminate the class imbalance."
   ]
  },
  {
   "cell_type": "code",
   "execution_count": 44,
   "id": "9ab237a1",
   "metadata": {},
   "outputs": [
    {
     "data": {
      "text/plain": [
       "{'KNN__metric': 'euclidean', 'KNN__n_neighbors': 5}"
      ]
     },
     "execution_count": 44,
     "metadata": {},
     "output_type": "execute_result"
    }
   ],
   "source": [
    "gridsearch1.best_params_"
   ]
  },
  {
   "cell_type": "markdown",
   "id": "eabccc4a",
   "metadata": {},
   "source": [
    "The above combination of hyperparameters produced the optimal results for our KNN model"
   ]
  },
  {
   "cell_type": "code",
   "execution_count": 45,
   "id": "8a98e34b",
   "metadata": {},
   "outputs": [
    {
     "name": "stdout",
     "output_type": "stream",
     "text": [
      "Log loss for the classifier: 0.5840662617767699\n",
      "Train score: 0.9310058187863675 \n",
      " Test score :0.8616262482168331\n"
     ]
    }
   ],
   "source": [
    "#Applying the SMOTE method\n",
    "temp_model2 = clone(gridsearch1)\n",
    "temp_model2.fit(X_t_oversampled, y_t_oversampled)\n",
    "evaluate(temp_model2, X_t_oversampled, y_t_oversampled)\n",
    "score(temp_model2,X_t_oversampled, y_t_oversampled,X_test_scaled,y_test)"
   ]
  },
  {
   "cell_type": "markdown",
   "id": "82433070",
   "metadata": {},
   "source": [
    "This balanced knn model is overfitted as the train score is doing much better than the test score<br>\n",
    "\n",
    "\n",
    "\n",
    "***Decision Trees***\n",
    "\n",
    "We have taken a look at Logistic and KNN models,let's jump to Decision Trees and see if it performs any better."
   ]
  },
  {
   "cell_type": "code",
   "execution_count": 46,
   "id": "32d28235",
   "metadata": {},
   "outputs": [
    {
     "name": "stdout",
     "output_type": "stream",
     "text": [
      "Train score: 0.9624346172135045 \n",
      " Test score :0.9443651925820257\n",
      "Log loss for the classifier: 0.43230908734743734\n"
     ]
    }
   ],
   "source": [
    "#Initiating a pipeline\n",
    "pipeline2=Pipeline([('DT',  DecisionTreeClassifier(random_state=42))])\n",
    "\n",
    "param_grid = {\n",
    "    'DT__criterion': ['gini', 'entropy'],\n",
    "    'DT__max_depth': [None, 2, 3, 4, 5, 6],\n",
    "    'DT__min_samples_split': [2, 5,8, 10],\n",
    "    'DT__min_samples_leaf': [1, 2, 3, 4, 5, 6]\n",
    "}\n",
    "\n",
    "# Instantiate GridSearchCV\n",
    "gridsearch2 = GridSearchCV(pipeline2,param_grid, cv=5)\n",
    "\n",
    "# Fit to the data\n",
    "gridsearch2.fit(X_train, y_train)\n",
    "\n",
    "# Print the test and train score\n",
    "score(gridsearch2,X_train, y_train,X_test,y_test)\n",
    "\n",
    "#print the log loss of the model\n",
    "evaluate(gridsearch2, X_train, y_train)"
   ]
  },
  {
   "cell_type": "markdown",
   "id": "db8d762f",
   "metadata": {},
   "source": [
    "* So far our best performing model in terms of the test score.Although, the train score is performing better than the test maybe we are overfitting just a little bit but its not something to be that worried about as the difference is not that big.<br>\n",
    "* Its also fair to note that the computational time for this model is fairly long.<br>\n",
    "* As for the log loss ,the model is trying as its among the lowest together with the initial Logistic Regression"
   ]
  },
  {
   "cell_type": "code",
   "execution_count": 47,
   "id": "bc31a85b",
   "metadata": {},
   "outputs": [
    {
     "data": {
      "text/plain": [
       "{'DT__criterion': 'gini',\n",
       " 'DT__max_depth': 5,\n",
       " 'DT__min_samples_leaf': 6,\n",
       " 'DT__min_samples_split': 2}"
      ]
     },
     "execution_count": 47,
     "metadata": {},
     "output_type": "execute_result"
    }
   ],
   "source": [
    "gridsearch2.best_params_"
   ]
  },
  {
   "cell_type": "markdown",
   "id": "29266c30",
   "metadata": {},
   "source": [
    "The above combination of hyperparameters produced the optimal results for our DecisionTree model.\n",
    "\n",
    "\n",
    "For a decision tree it is not a must to scale our data since its not a distance based model so lets just try with the scaled data to see if we get better results\n"
   ]
  },
  {
   "cell_type": "code",
   "execution_count": 48,
   "id": "4d382b53",
   "metadata": {},
   "outputs": [
    {
     "name": "stdout",
     "output_type": "stream",
     "text": [
      "Train score: 0.9381835473133618 \n",
      " Test score :0.9229671897289586\n",
      "Log loss for the classifier: 0.3295759606701541\n"
     ]
    }
   ],
   "source": [
    "# Fit to the data\n",
    "gridsearch2.fit(X_train_scaled, y_train)\n",
    "\n",
    "# Print the test and train score\n",
    "score(gridsearch2,X_train_scaled, y_train,X_test_scaled,y_test)\n",
    "\n",
    "#print the log loss of the model\n",
    "evaluate(gridsearch2, X_train_scaled, y_train)"
   ]
  },
  {
   "cell_type": "markdown",
   "id": "868285d7",
   "metadata": {},
   "source": [
    "Our scaled decision tree model is not doing bad,its fitting is okay and has a lower log loss that the unscaled DecisionTree\n",
    "\n",
    "**_Feature importance_**\n",
    "\n",
    "Decision Trees also compute the importance value for each feature.Lets take a look."
   ]
  },
  {
   "cell_type": "code",
   "execution_count": 49,
   "id": "05085cd5",
   "metadata": {},
   "outputs": [
    {
     "data": {
      "text/html": [
       "<style>#sk-container-id-2 {color: black;background-color: white;}#sk-container-id-2 pre{padding: 0;}#sk-container-id-2 div.sk-toggleable {background-color: white;}#sk-container-id-2 label.sk-toggleable__label {cursor: pointer;display: block;width: 100%;margin-bottom: 0;padding: 0.3em;box-sizing: border-box;text-align: center;}#sk-container-id-2 label.sk-toggleable__label-arrow:before {content: \"▸\";float: left;margin-right: 0.25em;color: #696969;}#sk-container-id-2 label.sk-toggleable__label-arrow:hover:before {color: black;}#sk-container-id-2 div.sk-estimator:hover label.sk-toggleable__label-arrow:before {color: black;}#sk-container-id-2 div.sk-toggleable__content {max-height: 0;max-width: 0;overflow: hidden;text-align: left;background-color: #f0f8ff;}#sk-container-id-2 div.sk-toggleable__content pre {margin: 0.2em;color: black;border-radius: 0.25em;background-color: #f0f8ff;}#sk-container-id-2 input.sk-toggleable__control:checked~div.sk-toggleable__content {max-height: 200px;max-width: 100%;overflow: auto;}#sk-container-id-2 input.sk-toggleable__control:checked~label.sk-toggleable__label-arrow:before {content: \"▾\";}#sk-container-id-2 div.sk-estimator input.sk-toggleable__control:checked~label.sk-toggleable__label {background-color: #d4ebff;}#sk-container-id-2 div.sk-label input.sk-toggleable__control:checked~label.sk-toggleable__label {background-color: #d4ebff;}#sk-container-id-2 input.sk-hidden--visually {border: 0;clip: rect(1px 1px 1px 1px);clip: rect(1px, 1px, 1px, 1px);height: 1px;margin: -1px;overflow: hidden;padding: 0;position: absolute;width: 1px;}#sk-container-id-2 div.sk-estimator {font-family: monospace;background-color: #f0f8ff;border: 1px dotted black;border-radius: 0.25em;box-sizing: border-box;margin-bottom: 0.5em;}#sk-container-id-2 div.sk-estimator:hover {background-color: #d4ebff;}#sk-container-id-2 div.sk-parallel-item::after {content: \"\";width: 100%;border-bottom: 1px solid gray;flex-grow: 1;}#sk-container-id-2 div.sk-label:hover label.sk-toggleable__label {background-color: #d4ebff;}#sk-container-id-2 div.sk-serial::before {content: \"\";position: absolute;border-left: 1px solid gray;box-sizing: border-box;top: 0;bottom: 0;left: 50%;z-index: 0;}#sk-container-id-2 div.sk-serial {display: flex;flex-direction: column;align-items: center;background-color: white;padding-right: 0.2em;padding-left: 0.2em;position: relative;}#sk-container-id-2 div.sk-item {position: relative;z-index: 1;}#sk-container-id-2 div.sk-parallel {display: flex;align-items: stretch;justify-content: center;background-color: white;position: relative;}#sk-container-id-2 div.sk-item::before, #sk-container-id-2 div.sk-parallel-item::before {content: \"\";position: absolute;border-left: 1px solid gray;box-sizing: border-box;top: 0;bottom: 0;left: 50%;z-index: -1;}#sk-container-id-2 div.sk-parallel-item {display: flex;flex-direction: column;z-index: 1;position: relative;background-color: white;}#sk-container-id-2 div.sk-parallel-item:first-child::after {align-self: flex-end;width: 50%;}#sk-container-id-2 div.sk-parallel-item:last-child::after {align-self: flex-start;width: 50%;}#sk-container-id-2 div.sk-parallel-item:only-child::after {width: 0;}#sk-container-id-2 div.sk-dashed-wrapped {border: 1px dashed gray;margin: 0 0.4em 0.5em 0.4em;box-sizing: border-box;padding-bottom: 0.4em;background-color: white;}#sk-container-id-2 div.sk-label label {font-family: monospace;font-weight: bold;display: inline-block;line-height: 1.2em;}#sk-container-id-2 div.sk-label-container {text-align: center;}#sk-container-id-2 div.sk-container {/* jupyter's `normalize.less` sets `[hidden] { display: none; }` but bootstrap.min.css set `[hidden] { display: none !important; }` so we also need the `!important` here to be able to override the default hidden behavior on the sphinx rendered scikit-learn.org. See: https://github.com/scikit-learn/scikit-learn/issues/21755 */display: inline-block !important;position: relative;}#sk-container-id-2 div.sk-text-repr-fallback {display: none;}</style><div id=\"sk-container-id-2\" class=\"sk-top-container\"><div class=\"sk-text-repr-fallback\"><pre>DecisionTreeClassifier(max_depth=5, min_samples_leaf=6, random_state=42)</pre><b>In a Jupyter environment, please rerun this cell to show the HTML representation or trust the notebook. <br />On GitHub, the HTML representation is unable to render, please try loading this page with nbviewer.org.</b></div><div class=\"sk-container\" hidden><div class=\"sk-item\"><div class=\"sk-estimator sk-toggleable\"><input class=\"sk-toggleable__control sk-hidden--visually\" id=\"sk-estimator-id-2\" type=\"checkbox\" checked><label for=\"sk-estimator-id-2\" class=\"sk-toggleable__label sk-toggleable__label-arrow\">DecisionTreeClassifier</label><div class=\"sk-toggleable__content\"><pre>DecisionTreeClassifier(max_depth=5, min_samples_leaf=6, random_state=42)</pre></div></div></div></div></div>"
      ],
      "text/plain": [
       "DecisionTreeClassifier(max_depth=5, min_samples_leaf=6, random_state=42)"
      ]
     },
     "execution_count": 49,
     "metadata": {},
     "output_type": "execute_result"
    }
   ],
   "source": [
    "#Instantiating a decisionTree classifier with the optimal combination of parameters\n",
    "decisionTree = DecisionTreeClassifier(random_state=42,criterion= 'gini',\n",
    " max_depth= 5,\n",
    "min_samples_leaf= 6,\n",
    "min_samples_split= 2)\n",
    "\n",
    "decisionTree.fit(X_train, y_train)\n"
   ]
  },
  {
   "cell_type": "code",
   "execution_count": 51,
   "id": "bd62f4ef",
   "metadata": {},
   "outputs": [
    {
     "data": {
      "image/png": "[encoded data removed]",
      "text/plain": [
       "<Figure size 576x576 with 1 Axes>"
      ]
     },
     "metadata": {
      "needs_background": "light"
     },
     "output_type": "display_data"
    }
   ],
   "source": [
    "def plot_feature_importances(model):\n",
    "    n_features = X_train.shape[1]\n",
    "    plt.figure(figsize=(8,8))\n",
    "    plt.barh(range(n_features), model.feature_importances_, align='center') \n",
    "    plt.yticks(np.arange(n_features), X_train.columns.values) \n",
    "    plt.xlabel('Feature importance')\n",
    "    plt.ylabel('Feature')\n",
    "\n",
    "plot_feature_importances(decisionTree)\n",
    "plt.savefig(\"Feature importance6.png\")"
   ]
  },
  {
   "cell_type": "markdown",
   "id": "91d612a1",
   "metadata": {},
   "source": [
    "* Our DecisionTree gives importance ```total day charge``` which has a positive correlation with the target feature this is followed by ```total intl charge``` which also positively correlated to churning this means that with increase of these two features there is increase in churning rate\n",
    "* Also other important features are ```number of vmail messages``` and ```total intl calls``` which are negatively correlated to the target meaning decrease in these features  increases churn rate."
   ]
  },
  {
   "cell_type": "markdown",
   "id": "4abe77e8",
   "metadata": {},
   "source": [
    "***Random forests***\n",
    "\n",
    "A popular ensemble method is the Random Forest. Let's fit a random forest classifier next and see how it measures up compared to all the others."
   ]
  },
  {
   "cell_type": "code",
   "execution_count": 52,
   "id": "98b48a95",
   "metadata": {},
   "outputs": [
    {
     "name": "stdout",
     "output_type": "stream",
     "text": [
      "Train score: 0.9728958630527818 \n",
      " Test score :0.9557774607703281\n",
      "Log loss for the classifier: 0.24997287564237264\n"
     ]
    }
   ],
   "source": [
    "#Instantiate a pipeline\n",
    "pipeline3=Pipeline([('RF',   RandomForestClassifier())])\n",
    "\n",
    "rf_param_grid = {\n",
    "    'RF__n_estimators': [10, 30, 100],\n",
    "    'RF__criterion': ['gini', 'entropy'],\n",
    "    'RF__max_depth': [None, 2, 6, 10],\n",
    "    'RF__min_samples_split': [5, 10],\n",
    "    'RF__min_samples_leaf': [3, 6]\n",
    "}\n",
    "\n",
    "rf_grid_search = GridSearchCV(pipeline3, rf_param_grid, cv=3)\n",
    "rf_grid_search.fit(X_train, y_train)\n",
    "\n",
    "# Print the test and train score\n",
    "score(rf_grid_search,X_train, y_train,X_test,y_test)\n",
    "\n",
    "#print the log loss of the model\n",
    "evaluate(rf_grid_search, X_train, y_train)"
   ]
  },
  {
   "cell_type": "markdown",
   "id": "d39ee9b0",
   "metadata": {},
   "source": [
    "The log loss for this model is good.<BR>\n",
    "This model is slightly overfitted as the train score is a bit better than the test score."
   ]
  },
  {
   "cell_type": "code",
   "execution_count": 53,
   "id": "f7781b2a",
   "metadata": {},
   "outputs": [
    {
     "data": {
      "text/plain": [
       "{'RF__criterion': 'gini',\n",
       " 'RF__max_depth': None,\n",
       " 'RF__min_samples_leaf': 3,\n",
       " 'RF__min_samples_split': 10,\n",
       " 'RF__n_estimators': 30}"
      ]
     },
     "execution_count": 53,
     "metadata": {},
     "output_type": "execute_result"
    }
   ],
   "source": [
    "rf_grid_search.best_params_"
   ]
  },
  {
   "cell_type": "code",
   "execution_count": 54,
   "id": "7b950e79",
   "metadata": {},
   "outputs": [
    {
     "data": {
      "text/html": [
       "<style>#sk-container-id-3 {color: black;background-color: white;}#sk-container-id-3 pre{padding: 0;}#sk-container-id-3 div.sk-toggleable {background-color: white;}#sk-container-id-3 label.sk-toggleable__label {cursor: pointer;display: block;width: 100%;margin-bottom: 0;padding: 0.3em;box-sizing: border-box;text-align: center;}#sk-container-id-3 label.sk-toggleable__label-arrow:before {content: \"▸\";float: left;margin-right: 0.25em;color: #696969;}#sk-container-id-3 label.sk-toggleable__label-arrow:hover:before {color: black;}#sk-container-id-3 div.sk-estimator:hover label.sk-toggleable__label-arrow:before {color: black;}#sk-container-id-3 div.sk-toggleable__content {max-height: 0;max-width: 0;overflow: hidden;text-align: left;background-color: #f0f8ff;}#sk-container-id-3 div.sk-toggleable__content pre {margin: 0.2em;color: black;border-radius: 0.25em;background-color: #f0f8ff;}#sk-container-id-3 input.sk-toggleable__control:checked~div.sk-toggleable__content {max-height: 200px;max-width: 100%;overflow: auto;}#sk-container-id-3 input.sk-toggleable__control:checked~label.sk-toggleable__label-arrow:before {content: \"▾\";}#sk-container-id-3 div.sk-estimator input.sk-toggleable__control:checked~label.sk-toggleable__label {background-color: #d4ebff;}#sk-container-id-3 div.sk-label input.sk-toggleable__control:checked~label.sk-toggleable__label {background-color: #d4ebff;}#sk-container-id-3 input.sk-hidden--visually {border: 0;clip: rect(1px 1px 1px 1px);clip: rect(1px, 1px, 1px, 1px);height: 1px;margin: -1px;overflow: hidden;padding: 0;position: absolute;width: 1px;}#sk-container-id-3 div.sk-estimator {font-family: monospace;background-color: #f0f8ff;border: 1px dotted black;border-radius: 0.25em;box-sizing: border-box;margin-bottom: 0.5em;}#sk-container-id-3 div.sk-estimator:hover {background-color: #d4ebff;}#sk-container-id-3 div.sk-parallel-item::after {content: \"\";width: 100%;border-bottom: 1px solid gray;flex-grow: 1;}#sk-container-id-3 div.sk-label:hover label.sk-toggleable__label {background-color: #d4ebff;}#sk-container-id-3 div.sk-serial::before {content: \"\";position: absolute;border-left: 1px solid gray;box-sizing: border-box;top: 0;bottom: 0;left: 50%;z-index: 0;}#sk-container-id-3 div.sk-serial {display: flex;flex-direction: column;align-items: center;background-color: white;padding-right: 0.2em;padding-left: 0.2em;position: relative;}#sk-container-id-3 div.sk-item {position: relative;z-index: 1;}#sk-container-id-3 div.sk-parallel {display: flex;align-items: stretch;justify-content: center;background-color: white;position: relative;}#sk-container-id-3 div.sk-item::before, #sk-container-id-3 div.sk-parallel-item::before {content: \"\";position: absolute;border-left: 1px solid gray;box-sizing: border-box;top: 0;bottom: 0;left: 50%;z-index: -1;}#sk-container-id-3 div.sk-parallel-item {display: flex;flex-direction: column;z-index: 1;position: relative;background-color: white;}#sk-container-id-3 div.sk-parallel-item:first-child::after {align-self: flex-end;width: 50%;}#sk-container-id-3 div.sk-parallel-item:last-child::after {align-self: flex-start;width: 50%;}#sk-container-id-3 div.sk-parallel-item:only-child::after {width: 0;}#sk-container-id-3 div.sk-dashed-wrapped {border: 1px dashed gray;margin: 0 0.4em 0.5em 0.4em;box-sizing: border-box;padding-bottom: 0.4em;background-color: white;}#sk-container-id-3 div.sk-label label {font-family: monospace;font-weight: bold;display: inline-block;line-height: 1.2em;}#sk-container-id-3 div.sk-label-container {text-align: center;}#sk-container-id-3 div.sk-container {/* jupyter's `normalize.less` sets `[hidden] { display: none; }` but bootstrap.min.css set `[hidden] { display: none !important; }` so we also need the `!important` here to be able to override the default hidden behavior on the sphinx rendered scikit-learn.org. See: https://github.com/scikit-learn/scikit-learn/issues/21755 */display: inline-block !important;position: relative;}#sk-container-id-3 div.sk-text-repr-fallback {display: none;}</style><div id=\"sk-container-id-3\" class=\"sk-top-container\"><div class=\"sk-text-repr-fallback\"><pre>RandomForestClassifier(min_samples_leaf=3, min_samples_split=5)</pre><b>In a Jupyter environment, please rerun this cell to show the HTML representation or trust the notebook. <br />On GitHub, the HTML representation is unable to render, please try loading this page with nbviewer.org.</b></div><div class=\"sk-container\" hidden><div class=\"sk-item\"><div class=\"sk-estimator sk-toggleable\"><input class=\"sk-toggleable__control sk-hidden--visually\" id=\"sk-estimator-id-3\" type=\"checkbox\" checked><label for=\"sk-estimator-id-3\" class=\"sk-toggleable__label sk-toggleable__label-arrow\">RandomForestClassifier</label><div class=\"sk-toggleable__content\"><pre>RandomForestClassifier(min_samples_leaf=3, min_samples_split=5)</pre></div></div></div></div></div>"
      ],
      "text/plain": [
       "RandomForestClassifier(min_samples_leaf=3, min_samples_split=5)"
      ]
     },
     "execution_count": 54,
     "metadata": {},
     "output_type": "execute_result"
    }
   ],
   "source": [
    "#Instantiating a rondomForest classifier with the optimal combination of parameters\n",
    "randomForest=RandomForestClassifier(criterion= 'gini',\n",
    " max_depth= None,\n",
    " min_samples_leaf= 3,\n",
    "min_samples_split= 5,\n",
    " n_estimators= 100)\n",
    "\n",
    "randomForest.fit(X_train, y_train)\n"
   ]
  },
  {
   "cell_type": "markdown",
   "id": "895898c2",
   "metadata": {},
   "source": [
    "**_Feature importance_**\n",
    "\n",
    "We will also check for feature importance just as we did in the Decision tree model."
   ]
  },
  {
   "cell_type": "code",
   "execution_count": 55,
   "id": "15f594b8",
   "metadata": {},
   "outputs": [
    {
     "data": {
      "image/png": "[encoded data removed]",
      "text/plain": [
       "<Figure size 576x576 with 1 Axes>"
      ]
     },
     "metadata": {
      "needs_background": "light"
     },
     "output_type": "display_data"
    }
   ],
   "source": [
    "plot_feature_importances(randomForest)"
   ]
  },
  {
   "cell_type": "markdown",
   "id": "1e6b5245",
   "metadata": {},
   "source": [
    "The feature ```total day charge``` is the most important and it has a positive correlation with churning.Same goes for ```international plan``` and ```total day minutes``` they all have a relatively strong positive correlation with churn rate compared to the other features"
   ]
  },
  {
   "cell_type": "markdown",
   "id": "f07459c6",
   "metadata": {},
   "source": [
    "### Model evaluation\n",
    "\n",
    "* For the final model ,I will go with the Decision Tree model inasmuch as the Random Forest model is also performing well the slightly overfitting aspect is throwing it off.<br>\n",
    "* The aim of this model is predicting so its very important for the final model to be able perform well for unseen data,the model must have that generalizing aspect.Therefore the smaller the difference between the train and test score,the better the model.\n",
    "\n"
   ]
  },
  {
   "cell_type": "code",
   "execution_count": 56,
   "id": "c1c7051a",
   "metadata": {},
   "outputs": [],
   "source": [
    "final_model=decisionTree"
   ]
  },
  {
   "cell_type": "code",
   "execution_count": 57,
   "id": "f78063ea",
   "metadata": {},
   "outputs": [
    {
     "name": "stdout",
     "output_type": "stream",
     "text": [
      "Decision tree metrics\n",
      "\n",
      "Accuracy score:0.9443651925820257,\n",
      "Recall score: 0.6341463414634146,\n",
      "Presicion score: 0.8524590163934426,\n",
      "F1 score : 0.7272727272727272\n"
     ]
    }
   ],
   "source": [
    "#Defining a function that evaluates our classifier metrics\n",
    "def metrics(model):\n",
    "    y_test_pred=model.predict(X_test)\n",
    "\n",
    "    accuracy = accuracy_score(y_test,y_test_pred)\n",
    "    recall = recall_score(y_test,y_test_pred)\n",
    "    precision = precision_score(y_test,y_test_pred)\n",
    "    f1 = f1_score(y_test,y_test_pred)\n",
    "\n",
    "    print(f\"Accuracy score:{accuracy},\\n\"\n",
    "            f\"Recall score: {recall},\\n\"\n",
    "            f\"Presicion score: {precision},\\n\"\n",
    "            f\"F1 score : {f1}\")\n",
    "\n",
    "print(\"Decision tree metrics\\n\")\n",
    "metrics(decisionTree)\n",
    "                   \n"
   ]
  },
  {
   "cell_type": "markdown",
   "id": "629e79e4",
   "metadata": {},
   "source": [
    "_**Accuracy score**_\n",
    "The accuracy score of our model is good.In other words, our model correctly identifies whether a customer churned or not about 94.4% of the time, whereas always guessing the majority class (not churned) would only be accurate about 89% of the time as we saw earlier.\n",
    "\n",
    "**_Recall score_**\n",
    "This represents the true positive rate.Given the label of a class is actually ```True``` ,there 63% chances that our model will correctly label it as ```True```and 37% it won't.<br>\n",
    "For this particular case its very important for our model to correctly predict the ```True``` value which means that a customer churned because failure to which ,the company might think its doing well based on predicted low churn rate while actually the opposite is happening."
   ]
  },
  {
   "cell_type": "code",
   "execution_count": 58,
   "id": "bba262ea",
   "metadata": {},
   "outputs": [
    {
     "name": "stderr",
     "output_type": "stream",
     "text": [
      "C:\\Users\\user\\anaconda3\\lib\\site-packages\\sklearn\\utils\\deprecation.py:87: FutureWarning: Function plot_confusion_matrix is deprecated; Function `plot_confusion_matrix` is deprecated in 1.0 and will be removed in 1.2. Use one of the class methods: ConfusionMatrixDisplay.from_predictions or ConfusionMatrixDisplay.from_estimator.\n",
      "  warnings.warn(msg, category=FutureWarning)\n"
     ]
    },
    {
     "data": {
      "text/plain": [
       "<sklearn.metrics._plot.confusion_matrix.ConfusionMatrixDisplay at 0x1e9fa6d3eb0>"
      ]
     },
     "execution_count": 58,
     "metadata": {},
     "output_type": "execute_result"
    },
    {
     "data": {
      "image/png": "[encoded data removed]",
      "text/plain": [
       "<Figure size 432x288 with 2 Axes>"
      ]
     },
     "metadata": {
      "needs_background": "light"
     },
     "output_type": "display_data"
    }
   ],
   "source": [
    "plot_confusion_matrix(decisionTree, X_train, y_train)"
   ]
  },
  {
   "cell_type": "markdown",
   "id": "e74b0c36",
   "metadata": {},
   "source": [
    "Above are the numbers for:\n",
    "* True Negative - 1871\n",
    "* False Positive - 9\n",
    "* False Negative - 70\n",
    "* True Positive - 153"
   ]
  },
  {
   "cell_type": "markdown",
   "id": "f56dec33",
   "metadata": {},
   "source": [
    "### Conclusion\n",
    "\n",
    "Different classifiers were fitted on the customer data, this was to predict whether a customer would churn or not.The final model(Decision Tree) was able to accurately predict churn by 94%.\n",
    "\n",
    "One of the most predictors was ```total day charge``` followed by ```total intl charge``` and they both had a positive correlation with churn meaning that if a customer was charged at a high price during the day and international calls,they were likely to churn.\n",
    "\n",
    "The other important predictors were ```number of vmail messages``` and ```total intl calls``` and they had a negative correlation with churn meaning that with decreased number of international calls and vmail messages a customer is likely to churn.Earlier we also saw that clients who neither have an international plan nor vmail plan were likely to churn .\n",
    "\n",
    "In  ```New Jersey```,```Texas```,```Maryland```,```Kansas```,```Minnesota```,```Washtington```,```Michigan```,```Connecticut```,```Massachusets``` states we have the most people churning.\n"
   ]
  },
  {
   "cell_type": "markdown",
   "id": "4a902077",
   "metadata": {},
   "source": [
    "### Recommendation\n",
    "* The company should look into the purchasing power of their clients and possibly lower prices for international calls and day calls.\n",
    "\n",
    "* The company should pursuade their clients to have telephone plans(international plan,vmail plan) inturn this will encourage the customers to make more international calls or send more vmail messages\n",
    "\n",
    "* Since the company has already known from which states where people who churn come from,it could possibly have advertistments aiming to lure the people in these states to use their services\n",
    "\n",
    "* Lastly the company could have special offers for their loyal customer to encourage customer retention.\n",
    "\n"
   ]
  }
 ],
 "metadata": {
  "kernelspec": {
   "display_name": "Python 3 (ipykernel)",
   "language": "python",
   "name": "python3"
  },
  "language_info": {
   "codemirror_mode": {
    "name": "ipython",
    "version": 3
   },
   "file_extension": ".py",
   "mimetype": "text/x-python",
   "name": "python",
   "nbconvert_exporter": "python",
   "pygments_lexer": "ipython3",
   "version": "3.9.7"
  }
 },
 "nbformat": 4,
 "nbformat_minor": 5
}
